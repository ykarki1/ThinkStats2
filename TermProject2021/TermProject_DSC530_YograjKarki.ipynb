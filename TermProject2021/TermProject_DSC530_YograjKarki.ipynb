{
 "cells": [
  {
   "cell_type": "markdown",
   "metadata": {},
   "source": [
    "# DSC 530: Final Term Project \n",
    "## Data Exploration and Analysis\n",
    "Submitted by: Yograj Karki"
   ]
  },
  {
   "cell_type": "code",
   "execution_count": 1,
   "metadata": {},
   "outputs": [],
   "source": [
    "# Importing dependencies\n",
    "import numpy as np\n",
    "import pandas as pd\n",
    "import seaborn as sns\n",
    "import matplotlib.pyplot as plt\n",
    "import thinkplot\n",
    "import thinkstats2"
   ]
  },
  {
   "cell_type": "code",
   "execution_count": 2,
   "metadata": {},
   "outputs": [],
   "source": [
    "# Importing data into a dataframe\n",
    "df = pd.read_csv(\"./StudentsPerformance.csv\")"
   ]
  },
  {
   "cell_type": "code",
   "execution_count": 3,
   "metadata": {},
   "outputs": [
    {
     "data": {
      "text/html": [
       "<div>\n",
       "<style scoped>\n",
       "    .dataframe tbody tr th:only-of-type {\n",
       "        vertical-align: middle;\n",
       "    }\n",
       "\n",
       "    .dataframe tbody tr th {\n",
       "        vertical-align: top;\n",
       "    }\n",
       "\n",
       "    .dataframe thead th {\n",
       "        text-align: right;\n",
       "    }\n",
       "</style>\n",
       "<table border=\"1\" class=\"dataframe\">\n",
       "  <thead>\n",
       "    <tr style=\"text-align: right;\">\n",
       "      <th></th>\n",
       "      <th>gender</th>\n",
       "      <th>race/ethnicity</th>\n",
       "      <th>parental level of education</th>\n",
       "      <th>lunch</th>\n",
       "      <th>test preparation course</th>\n",
       "      <th>math score</th>\n",
       "      <th>reading score</th>\n",
       "      <th>writing score</th>\n",
       "    </tr>\n",
       "  </thead>\n",
       "  <tbody>\n",
       "    <tr>\n",
       "      <th>0</th>\n",
       "      <td>female</td>\n",
       "      <td>group B</td>\n",
       "      <td>bachelor's degree</td>\n",
       "      <td>standard</td>\n",
       "      <td>none</td>\n",
       "      <td>72</td>\n",
       "      <td>72</td>\n",
       "      <td>74</td>\n",
       "    </tr>\n",
       "    <tr>\n",
       "      <th>1</th>\n",
       "      <td>female</td>\n",
       "      <td>group C</td>\n",
       "      <td>some college</td>\n",
       "      <td>standard</td>\n",
       "      <td>completed</td>\n",
       "      <td>69</td>\n",
       "      <td>90</td>\n",
       "      <td>88</td>\n",
       "    </tr>\n",
       "    <tr>\n",
       "      <th>2</th>\n",
       "      <td>female</td>\n",
       "      <td>group B</td>\n",
       "      <td>master's degree</td>\n",
       "      <td>standard</td>\n",
       "      <td>none</td>\n",
       "      <td>90</td>\n",
       "      <td>95</td>\n",
       "      <td>93</td>\n",
       "    </tr>\n",
       "    <tr>\n",
       "      <th>3</th>\n",
       "      <td>male</td>\n",
       "      <td>group A</td>\n",
       "      <td>associate's degree</td>\n",
       "      <td>free/reduced</td>\n",
       "      <td>none</td>\n",
       "      <td>47</td>\n",
       "      <td>57</td>\n",
       "      <td>44</td>\n",
       "    </tr>\n",
       "    <tr>\n",
       "      <th>4</th>\n",
       "      <td>male</td>\n",
       "      <td>group C</td>\n",
       "      <td>some college</td>\n",
       "      <td>standard</td>\n",
       "      <td>none</td>\n",
       "      <td>76</td>\n",
       "      <td>78</td>\n",
       "      <td>75</td>\n",
       "    </tr>\n",
       "  </tbody>\n",
       "</table>\n",
       "</div>"
      ],
      "text/plain": [
       "   gender race/ethnicity parental level of education         lunch  \\\n",
       "0  female        group B           bachelor's degree      standard   \n",
       "1  female        group C                some college      standard   \n",
       "2  female        group B             master's degree      standard   \n",
       "3    male        group A          associate's degree  free/reduced   \n",
       "4    male        group C                some college      standard   \n",
       "\n",
       "  test preparation course  math score  reading score  writing score  \n",
       "0                    none          72             72             74  \n",
       "1               completed          69             90             88  \n",
       "2                    none          90             95             93  \n",
       "3                    none          47             57             44  \n",
       "4                    none          76             78             75  "
      ]
     },
     "execution_count": 3,
     "metadata": {},
     "output_type": "execute_result"
    }
   ],
   "source": [
    "# Preview of the data\n",
    "df.head()"
   ]
  },
  {
   "cell_type": "markdown",
   "metadata": {},
   "source": [
    "List the columns"
   ]
  },
  {
   "cell_type": "code",
   "execution_count": 4,
   "metadata": {},
   "outputs": [
    {
     "data": {
      "text/plain": [
       "Index(['gender', 'race/ethnicity', 'parental level of education', 'lunch',\n",
       "       'test preparation course', 'math score', 'reading score',\n",
       "       'writing score'],\n",
       "      dtype='object')"
      ]
     },
     "execution_count": 4,
     "metadata": {},
     "output_type": "execute_result"
    }
   ],
   "source": [
    "df.columns"
   ]
  },
  {
   "cell_type": "markdown",
   "metadata": {},
   "source": [
    "Explore the columns"
   ]
  },
  {
   "cell_type": "code",
   "execution_count": 5,
   "metadata": {},
   "outputs": [
    {
     "data": {
      "text/plain": [
       "female    518\n",
       "male      482\n",
       "Name: gender, dtype: int64"
      ]
     },
     "execution_count": 5,
     "metadata": {},
     "output_type": "execute_result"
    }
   ],
   "source": [
    "df.gender.value_counts().sort_index()"
   ]
  },
  {
   "cell_type": "code",
   "execution_count": 6,
   "metadata": {},
   "outputs": [
    {
     "data": {
      "text/plain": [
       "group A     89\n",
       "group B    190\n",
       "group C    319\n",
       "group D    262\n",
       "group E    140\n",
       "Name: race/ethnicity, dtype: int64"
      ]
     },
     "execution_count": 6,
     "metadata": {},
     "output_type": "execute_result"
    }
   ],
   "source": [
    "df['race/ethnicity'].value_counts().sort_index()"
   ]
  },
  {
   "cell_type": "code",
   "execution_count": 7,
   "metadata": {},
   "outputs": [
    {
     "data": {
      "text/plain": [
       "associate's degree    222\n",
       "bachelor's degree     118\n",
       "high school           196\n",
       "master's degree        59\n",
       "some college          226\n",
       "some high school      179\n",
       "Name: parental level of education, dtype: int64"
      ]
     },
     "execution_count": 7,
     "metadata": {},
     "output_type": "execute_result"
    }
   ],
   "source": [
    "df['parental level of education'].value_counts().sort_index()"
   ]
  },
  {
   "cell_type": "code",
   "execution_count": 8,
   "metadata": {},
   "outputs": [
    {
     "data": {
      "text/plain": [
       "free/reduced    355\n",
       "standard        645\n",
       "Name: lunch, dtype: int64"
      ]
     },
     "execution_count": 8,
     "metadata": {},
     "output_type": "execute_result"
    }
   ],
   "source": [
    "df['lunch'].value_counts().sort_index()"
   ]
  },
  {
   "cell_type": "code",
   "execution_count": 9,
   "metadata": {},
   "outputs": [
    {
     "data": {
      "text/plain": [
       "completed    358\n",
       "none         642\n",
       "Name: test preparation course, dtype: int64"
      ]
     },
     "execution_count": 9,
     "metadata": {},
     "output_type": "execute_result"
    }
   ],
   "source": [
    "df['test preparation course'].value_counts().sort_index()"
   ]
  },
  {
   "cell_type": "code",
   "execution_count": 10,
   "metadata": {},
   "outputs": [
    {
     "data": {
      "text/html": [
       "<div>\n",
       "<style scoped>\n",
       "    .dataframe tbody tr th:only-of-type {\n",
       "        vertical-align: middle;\n",
       "    }\n",
       "\n",
       "    .dataframe tbody tr th {\n",
       "        vertical-align: top;\n",
       "    }\n",
       "\n",
       "    .dataframe thead th {\n",
       "        text-align: right;\n",
       "    }\n",
       "</style>\n",
       "<table border=\"1\" class=\"dataframe\">\n",
       "  <thead>\n",
       "    <tr style=\"text-align: right;\">\n",
       "      <th></th>\n",
       "      <th>math score</th>\n",
       "      <th>reading score</th>\n",
       "      <th>writing score</th>\n",
       "    </tr>\n",
       "  </thead>\n",
       "  <tbody>\n",
       "    <tr>\n",
       "      <th>count</th>\n",
       "      <td>1000.00000</td>\n",
       "      <td>1000.000000</td>\n",
       "      <td>1000.000000</td>\n",
       "    </tr>\n",
       "    <tr>\n",
       "      <th>mean</th>\n",
       "      <td>66.08900</td>\n",
       "      <td>69.169000</td>\n",
       "      <td>68.054000</td>\n",
       "    </tr>\n",
       "    <tr>\n",
       "      <th>std</th>\n",
       "      <td>15.16308</td>\n",
       "      <td>14.600192</td>\n",
       "      <td>15.195657</td>\n",
       "    </tr>\n",
       "    <tr>\n",
       "      <th>min</th>\n",
       "      <td>0.00000</td>\n",
       "      <td>17.000000</td>\n",
       "      <td>10.000000</td>\n",
       "    </tr>\n",
       "    <tr>\n",
       "      <th>25%</th>\n",
       "      <td>57.00000</td>\n",
       "      <td>59.000000</td>\n",
       "      <td>57.750000</td>\n",
       "    </tr>\n",
       "    <tr>\n",
       "      <th>50%</th>\n",
       "      <td>66.00000</td>\n",
       "      <td>70.000000</td>\n",
       "      <td>69.000000</td>\n",
       "    </tr>\n",
       "    <tr>\n",
       "      <th>75%</th>\n",
       "      <td>77.00000</td>\n",
       "      <td>79.000000</td>\n",
       "      <td>79.000000</td>\n",
       "    </tr>\n",
       "    <tr>\n",
       "      <th>max</th>\n",
       "      <td>100.00000</td>\n",
       "      <td>100.000000</td>\n",
       "      <td>100.000000</td>\n",
       "    </tr>\n",
       "  </tbody>\n",
       "</table>\n",
       "</div>"
      ],
      "text/plain": [
       "       math score  reading score  writing score\n",
       "count  1000.00000    1000.000000    1000.000000\n",
       "mean     66.08900      69.169000      68.054000\n",
       "std      15.16308      14.600192      15.195657\n",
       "min       0.00000      17.000000      10.000000\n",
       "25%      57.00000      59.000000      57.750000\n",
       "50%      66.00000      70.000000      69.000000\n",
       "75%      77.00000      79.000000      79.000000\n",
       "max     100.00000     100.000000     100.000000"
      ]
     },
     "execution_count": 10,
     "metadata": {},
     "output_type": "execute_result"
    }
   ],
   "source": [
    "df.describe()"
   ]
  },
  {
   "cell_type": "markdown",
   "metadata": {},
   "source": [
    "Checking if there are any NULL values"
   ]
  },
  {
   "cell_type": "code",
   "execution_count": 11,
   "metadata": {},
   "outputs": [
    {
     "data": {
      "text/plain": [
       "gender                         0\n",
       "race/ethnicity                 0\n",
       "parental level of education    0\n",
       "lunch                          0\n",
       "test preparation course        0\n",
       "math score                     0\n",
       "reading score                  0\n",
       "writing score                  0\n",
       "dtype: int64"
      ]
     },
     "execution_count": 11,
     "metadata": {},
     "output_type": "execute_result"
    }
   ],
   "source": [
    "df.isnull().sum()"
   ]
  },
  {
   "cell_type": "code",
   "execution_count": 12,
   "metadata": {},
   "outputs": [
    {
     "data": {
      "image/png": "[encoded data removed]",
      "text/plain": [
       "<Figure size 432x288 with 1 Axes>"
      ]
     },
     "metadata": {
      "needs_background": "light"
     },
     "output_type": "display_data"
    },
    {
     "data": {
      "text/plain": [
       "<Figure size 576x432 with 0 Axes>"
      ]
     },
     "metadata": {},
     "output_type": "display_data"
    }
   ],
   "source": [
    "# Histogram gender distribution\n",
    "hist = thinkstats2.Hist(df.gender, label='gender comparison')\n",
    "thinkplot.Hist(hist)\n",
    "thinkplot.Show(xlabel='gender', ylabel='frequency')"
   ]
  },
  {
   "cell_type": "code",
   "execution_count": 13,
   "metadata": {},
   "outputs": [
    {
     "data": {
      "image/png": "[encoded data removed]",
      "text/plain": [
       "<Figure size 432x288 with 1 Axes>"
      ]
     },
     "metadata": {
      "needs_background": "light"
     },
     "output_type": "display_data"
    },
    {
     "data": {
      "text/plain": [
       "<Figure size 576x432 with 0 Axes>"
      ]
     },
     "metadata": {},
     "output_type": "display_data"
    }
   ],
   "source": [
    "hist = thinkstats2.Hist(df['race/ethnicity'], label='race/ethnicity')\n",
    "thinkplot.Hist(hist)\n",
    "thinkplot.Show(xlabel='ethnicity groups', ylabel='frequency')"
   ]
  },
  {
   "cell_type": "code",
   "execution_count": 14,
   "metadata": {},
   "outputs": [
    {
     "data": {
      "image/png": "[encoded data removed]",
      "text/plain": [
       "<Figure size 432x288 with 1 Axes>"
      ]
     },
     "metadata": {
      "needs_background": "light"
     },
     "output_type": "display_data"
    },
    {
     "data": {
      "text/plain": [
       "<Figure size 576x432 with 0 Axes>"
      ]
     },
     "metadata": {},
     "output_type": "display_data"
    }
   ],
   "source": [
    "hist = thinkstats2.Hist(df['parental level of education'], label='parental education')\n",
    "thinkplot.Hist(hist)\n",
    "thinkplot.Show(xlabel='level of education', ylabel='frequency')"
   ]
  },
  {
   "cell_type": "code",
   "execution_count": 15,
   "metadata": {},
   "outputs": [
    {
     "data": {
      "image/png": "[encoded data removed]",
      "text/plain": [
       "<Figure size 432x288 with 1 Axes>"
      ]
     },
     "metadata": {
      "needs_background": "light"
     },
     "output_type": "display_data"
    },
    {
     "data": {
      "text/plain": [
       "<Figure size 576x432 with 0 Axes>"
      ]
     },
     "metadata": {},
     "output_type": "display_data"
    }
   ],
   "source": [
    "# Lunch types histogram\n",
    "hist = thinkstats2.Hist(df['lunch'], label='lunch')\n",
    "thinkplot.Hist(hist)\n",
    "thinkplot.Show(xlabel='lunch type', ylabel='frequency')"
   ]
  },
  {
   "cell_type": "code",
   "execution_count": 16,
   "metadata": {},
   "outputs": [
    {
     "data": {
      "image/png": "[encoded data removed]",
      "text/plain": [
       "<Figure size 432x288 with 1 Axes>"
      ]
     },
     "metadata": {
      "needs_background": "light"
     },
     "output_type": "display_data"
    },
    {
     "data": {
      "text/plain": [
       "<Figure size 576x432 with 0 Axes>"
      ]
     },
     "metadata": {},
     "output_type": "display_data"
    }
   ],
   "source": [
    "hist = thinkstats2.Hist(df['test preparation course'], label='test preparation')\n",
    "thinkplot.Hist(hist)\n",
    "thinkplot.Show(xlabel='status', ylabel='frequency')"
   ]
  },
  {
   "cell_type": "markdown",
   "metadata": {},
   "source": [
    "There does not seem to be an outlier"
   ]
  },
  {
   "cell_type": "code",
   "execution_count": 17,
   "metadata": {},
   "outputs": [
    {
     "data": {
      "text/plain": [
       "(66.089, 69.169, 68.054)"
      ]
     },
     "execution_count": 17,
     "metadata": {},
     "output_type": "execute_result"
    }
   ],
   "source": [
    "df['math score'].mean() , df['reading score'].mean() , df['writing score'].mean()"
   ]
  },
  {
   "cell_type": "code",
   "execution_count": 18,
   "metadata": {},
   "outputs": [
    {
     "data": {
      "text/plain": [
       "(229.91899799799847, 213.1656046046047, 230.90799199199168)"
      ]
     },
     "execution_count": 18,
     "metadata": {},
     "output_type": "execute_result"
    }
   ],
   "source": [
    "df['math score'].var() , df['reading score'].var() , df['writing score'].var()"
   ]
  },
  {
   "cell_type": "code",
   "execution_count": 19,
   "metadata": {},
   "outputs": [
    {
     "data": {
      "text/plain": [
       "(15.163080096009468, 14.60019193725222, 15.195657010869642)"
      ]
     },
     "execution_count": 19,
     "metadata": {},
     "output_type": "execute_result"
    }
   ],
   "source": [
    "df['math score'].std() , df['reading score'].std() , df['writing score'].std()"
   ]
  },
  {
   "cell_type": "code",
   "execution_count": 20,
   "metadata": {},
   "outputs": [
    {
     "data": {
      "text/plain": [
       "(0    65\n",
       " dtype: int64,\n",
       " 0    72\n",
       " dtype: int64,\n",
       " 0    74\n",
       " dtype: int64)"
      ]
     },
     "execution_count": 20,
     "metadata": {},
     "output_type": "execute_result"
    }
   ],
   "source": [
    "df['math score'].mode() , df['reading score'].mode() , df['writing score'].mode()"
   ]
  },
  {
   "cell_type": "code",
   "execution_count": 21,
   "metadata": {},
   "outputs": [
    {
     "data": {
      "image/png": "[encoded data removed]",
      "text/plain": [
       "<Figure size 432x288 with 1 Axes>"
      ]
     },
     "metadata": {
      "needs_background": "light"
     },
     "output_type": "display_data"
    },
    {
     "data": {
      "text/plain": [
       "<Figure size 576x432 with 0 Axes>"
      ]
     },
     "metadata": {},
     "output_type": "display_data"
    }
   ],
   "source": [
    "hist = thinkstats2.Hist(df['math score'], label='math score')\n",
    "thinkplot.Hist(hist)\n",
    "thinkplot.Show(xlabel='marks', ylabel='frequency')"
   ]
  },
  {
   "cell_type": "code",
   "execution_count": 22,
   "metadata": {},
   "outputs": [
    {
     "data": {
      "image/png": "[encoded data removed]",
      "text/plain": [
       "<Figure size 432x288 with 1 Axes>"
      ]
     },
     "metadata": {
      "needs_background": "light"
     },
     "output_type": "display_data"
    },
    {
     "data": {
      "text/plain": [
       "<Figure size 576x432 with 0 Axes>"
      ]
     },
     "metadata": {},
     "output_type": "display_data"
    }
   ],
   "source": [
    "hist = thinkstats2.Hist(df['reading score'], label='reading score')\n",
    "thinkplot.Hist(hist)\n",
    "thinkplot.Show(xlabel='marks', ylabel='frequency')"
   ]
  },
  {
   "cell_type": "code",
   "execution_count": 23,
   "metadata": {},
   "outputs": [
    {
     "data": {
      "image/png": "[encoded data removed]",
      "text/plain": [
       "<Figure size 432x288 with 1 Axes>"
      ]
     },
     "metadata": {
      "needs_background": "light"
     },
     "output_type": "display_data"
    },
    {
     "data": {
      "text/plain": [
       "<Figure size 576x432 with 0 Axes>"
      ]
     },
     "metadata": {},
     "output_type": "display_data"
    }
   ],
   "source": [
    "hist = thinkstats2.Hist(df['writing score'], label='writing score')\n",
    "thinkplot.Hist(hist)\n",
    "thinkplot.Show(xlabel='marks', ylabel='frequency')"
   ]
  },
  {
   "cell_type": "markdown",
   "metadata": {},
   "source": [
    "data split by gender"
   ]
  },
  {
   "cell_type": "code",
   "execution_count": 24,
   "metadata": {},
   "outputs": [],
   "source": [
    "female = df[df.gender == 'female']\n",
    "male = df[df.gender == 'male']"
   ]
  },
  {
   "cell_type": "markdown",
   "metadata": {},
   "source": [
    "Plotting math score by gender"
   ]
  },
  {
   "cell_type": "code",
   "execution_count": 25,
   "metadata": {},
   "outputs": [],
   "source": [
    "female_hist = thinkstats2.Hist(female['math score'], label='female math score')\n",
    "male_hist = thinkstats2.Hist(male['math score'], label='male math score')"
   ]
  },
  {
   "cell_type": "code",
   "execution_count": 26,
   "metadata": {},
   "outputs": [
    {
     "data": {
      "image/png": "[encoded data removed]",
      "text/plain": [
       "<Figure size 432x288 with 1 Axes>"
      ]
     },
     "metadata": {
      "needs_background": "light"
     },
     "output_type": "display_data"
    }
   ],
   "source": [
    "width = 0.45\n",
    "thinkplot.PrePlot(2)\n",
    "thinkplot.Hist(female_hist, align='right', width=width)\n",
    "thinkplot.Hist(male_hist, align='left', width=width)\n",
    "thinkplot.Config(xlabel='marks', ylabel='Count')"
   ]
  },
  {
   "cell_type": "markdown",
   "metadata": {},
   "source": [
    "#### Plotting reading score by gender"
   ]
  },
  {
   "cell_type": "code",
   "execution_count": 27,
   "metadata": {},
   "outputs": [
    {
     "data": {
      "image/png": "[encoded data removed]",
      "text/plain": [
       "<Figure size 432x288 with 1 Axes>"
      ]
     },
     "metadata": {
      "needs_background": "light"
     },
     "output_type": "display_data"
    }
   ],
   "source": [
    "# Male and female combined\n",
    "female_hist = thinkstats2.Hist(female['reading score'], label='female reading score')\n",
    "male_hist = thinkstats2.Hist(male['reading score'], label='male reading score')\n",
    "width = 0.45\n",
    "thinkplot.PrePlot(2)\n",
    "thinkplot.Hist(female_hist, align='right', width=width)\n",
    "thinkplot.Hist(male_hist, align='left', width=width)\n",
    "thinkplot.Config(xlabel='marks', ylabel='Count')"
   ]
  },
  {
   "cell_type": "markdown",
   "metadata": {},
   "source": [
    "#### Plotting writing score by gender"
   ]
  },
  {
   "cell_type": "code",
   "execution_count": 28,
   "metadata": {},
   "outputs": [
    {
     "data": {
      "image/png": "[encoded data removed]",
      "text/plain": [
       "<Figure size 432x288 with 1 Axes>"
      ]
     },
     "metadata": {
      "needs_background": "light"
     },
     "output_type": "display_data"
    }
   ],
   "source": [
    "# Plotting writeing score by gender types\n",
    "female_hist = thinkstats2.Hist(female['writing score'], label='female writing score')\n",
    "male_hist = thinkstats2.Hist(male['writing score'], label='male writing score')\n",
    "width = 0.45\n",
    "thinkplot.PrePlot(2)\n",
    "thinkplot.Hist(female_hist, align='right', width=width)\n",
    "thinkplot.Hist(male_hist, align='left', width=width)\n",
    "thinkplot.Config(xlabel='marks', ylabel='Count')"
   ]
  },
  {
   "cell_type": "markdown",
   "metadata": {},
   "source": [
    "data split by race/ethnicity"
   ]
  },
  {
   "cell_type": "code",
   "execution_count": 29,
   "metadata": {},
   "outputs": [],
   "source": [
    "# Splitting data\n",
    "groupA = df[df['race/ethnicity'] == 'group A']\n",
    "groupB = df[df['race/ethnicity'] == 'group B']\n",
    "groupC = df[df['race/ethnicity'] == 'group C']\n",
    "groupD = df[df['race/ethnicity'] == 'group D']"
   ]
  },
  {
   "cell_type": "code",
   "execution_count": 30,
   "metadata": {},
   "outputs": [
    {
     "data": {
      "image/png": "[encoded data removed]",
      "text/plain": [
       "<Figure size 432x288 with 1 Axes>"
      ]
     },
     "metadata": {
      "needs_background": "light"
     },
     "output_type": "display_data"
    }
   ],
   "source": [
    "# Scores of different groups\n",
    "groupA_hist = thinkstats2.Hist(groupA['math score'], label='groupA math score')\n",
    "groupB_hist = thinkstats2.Hist(groupB['math score'], label='groupB math score')\n",
    "groupC_hist = thinkstats2.Hist(groupC['math score'], label='groupC math score')\n",
    "groupD_hist = thinkstats2.Hist(groupD['math score'], label='groupD math score')\n",
    "width = 0.45\n",
    "thinkplot.PrePlot(4)\n",
    "thinkplot.Hist(groupA_hist, align='right', width=width)\n",
    "thinkplot.Hist(groupB_hist, align='left', width=width)\n",
    "thinkplot.Hist(groupC_hist, align='right', width=width)\n",
    "thinkplot.Hist(groupD_hist, align='left', width=width)\n",
    "thinkplot.Config(xlabel='marks', ylabel='Count')"
   ]
  },
  {
   "cell_type": "markdown",
   "metadata": {},
   "source": [
    "## PMFs"
   ]
  },
  {
   "cell_type": "code",
   "execution_count": 31,
   "metadata": {},
   "outputs": [],
   "source": [
    "# PMF for male and female\n",
    "female_pmf = thinkstats2.Pmf(female['math score'], label='female math score')\n",
    "male_pmf = thinkstats2.Pmf(male['math score'], label='male math score')"
   ]
  },
  {
   "cell_type": "code",
   "execution_count": 32,
   "metadata": {},
   "outputs": [
    {
     "data": {
      "image/png": "[encoded data removed]",
      "text/plain": [
       "<Figure size 864x432 with 2 Axes>"
      ]
     },
     "metadata": {
      "needs_background": "light"
     },
     "output_type": "display_data"
    }
   ],
   "source": [
    "# Plot\n",
    "width=0.45\n",
    "thinkplot.PrePlot(2, cols=2)\n",
    "thinkplot.Hist(female_pmf, align='right', width=width)\n",
    "thinkplot.Hist(male_pmf, align='left', width=width)\n",
    "thinkplot.Config(xlabel='math score', ylabel='PMF')\n",
    "\n",
    "thinkplot.PrePlot(2)\n",
    "thinkplot.SubPlot(2)\n",
    "thinkplot.Pmfs([female_pmf, male_pmf])\n",
    "thinkplot.Config(xlabel='math score')"
   ]
  },
  {
   "cell_type": "code",
   "execution_count": 33,
   "metadata": {},
   "outputs": [
    {
     "data": {
      "image/png": "[encoded data removed]",
      "text/plain": [
       "<Figure size 432x288 with 1 Axes>"
      ]
     },
     "metadata": {
      "needs_background": "light"
     },
     "output_type": "display_data"
    }
   ],
   "source": [
    "marks = range(0, 100)\n",
    "diffs = []\n",
    "for mark in marks:\n",
    "    p1 = female_pmf.Prob(mark)\n",
    "    p2 = male_pmf.Prob(mark)\n",
    "    diff = 100 * (p1 - p2)\n",
    "    diffs.append(diff)\n",
    "\n",
    "thinkplot.Bar(marks, diffs)\n",
    "thinkplot.Config(xlabel='math score', ylabel='Difference (percentage points)')"
   ]
  },
  {
   "cell_type": "markdown",
   "metadata": {},
   "source": [
    "## CDFs"
   ]
  },
  {
   "cell_type": "code",
   "execution_count": 34,
   "metadata": {},
   "outputs": [],
   "source": [
    "preparation_completed = df[df['test preparation course'] == 'completed']\n",
    "preparation_none = df[df['test preparation course'] == 'none']"
   ]
  },
  {
   "cell_type": "code",
   "execution_count": 35,
   "metadata": {},
   "outputs": [
    {
     "data": {
      "image/png": "[encoded data removed]",
      "text/plain": [
       "<Figure size 432x288 with 1 Axes>"
      ]
     },
     "metadata": {
      "needs_background": "light"
     },
     "output_type": "display_data"
    },
    {
     "data": {
      "text/plain": [
       "<Figure size 576x432 with 0 Axes>"
      ]
     },
     "metadata": {},
     "output_type": "display_data"
    }
   ],
   "source": [
    "preparation_completed_cdf = thinkstats2.Cdf(preparation_completed['math score'], label='preparation completed')\n",
    "\n",
    "preparation_none_cdf = thinkstats2.Cdf(preparation_none['math score'], label='preparation none')\n",
    "\n",
    "thinkplot.PrePlot(2)\n",
    "thinkplot.Cdfs([preparation_completed_cdf, preparation_none_cdf])\n",
    "thinkplot.Show(xlabel='math score', ylabel='CDF')"
   ]
  },
  {
   "cell_type": "markdown",
   "metadata": {},
   "source": [
    "Using CDFs we are trying to understand if test preparation had a positive effect on students math marks\n",
    "and as we can see the CDF plot above, students who completed the test preparation consistantly scored more marks\n",
    "than the students who did not complete the test preparation course."
   ]
  },
  {
   "cell_type": "markdown",
   "metadata": {},
   "source": [
    "## Analytical distribution"
   ]
  },
  {
   "cell_type": "code",
   "execution_count": 36,
   "metadata": {},
   "outputs": [],
   "source": [
    "mathscore = df['math score']"
   ]
  },
  {
   "cell_type": "code",
   "execution_count": 37,
   "metadata": {},
   "outputs": [
    {
     "name": "stdout",
     "output_type": "stream",
     "text": [
      "Mean, Var 66.22244897959183 199.86276134943776\n",
      "Sigma 14.137282672049738\n"
     ]
    },
    {
     "data": {
      "image/png": "[encoded data removed]",
      "text/plain": [
       "<Figure size 432x288 with 1 Axes>"
      ]
     },
     "metadata": {
      "needs_background": "light"
     },
     "output_type": "display_data"
    }
   ],
   "source": [
    "mu, var = thinkstats2.TrimmedMeanVar(mathscore, p=0.01)\n",
    "print('Mean, Var', mu, var)\n",
    "    \n",
    "# plot the model\n",
    "sigma = np.sqrt(var)\n",
    "print('Sigma', sigma)\n",
    "xs, ps = thinkstats2.RenderNormalCdf(mu, sigma, low=0, high=12.5)\n",
    "\n",
    "thinkplot.Plot(xs, ps, label='model', color='0.6')\n",
    "\n",
    "# plot the data\n",
    "cdf = thinkstats2.Cdf(mathscore, label='data')\n",
    "\n",
    "thinkplot.PrePlot(1)\n",
    "thinkplot.Cdf(cdf) \n",
    "thinkplot.Config(title='math score',\n",
    "                 xlabel='mathscore',\n",
    "                 ylabel='CDF')"
   ]
  },
  {
   "cell_type": "markdown",
   "metadata": {},
   "source": [
    "Here's the observed CDF and the model. The model fits the data well"
   ]
  },
  {
   "cell_type": "markdown",
   "metadata": {},
   "source": [
    "The following example shows that if the data are actually from a normal distribution, the plot is straight except in the left  and right tail"
   ]
  },
  {
   "cell_type": "code",
   "execution_count": 38,
   "metadata": {},
   "outputs": [
    {
     "data": {
      "image/png": "[encoded data removed]",
      "text/plain": [
       "<Figure size 432x288 with 1 Axes>"
      ]
     },
     "metadata": {
      "needs_background": "light"
     },
     "output_type": "display_data"
    }
   ],
   "source": [
    "mean, var = thinkstats2.TrimmedMeanVar(mathscore, p=0.01)\n",
    "std = np.sqrt(var)\n",
    "\n",
    "xs = [-4, 4]\n",
    "fxs, fys = thinkstats2.FitLine(xs, mean, std)\n",
    "thinkplot.Plot(fxs, fys, linewidth=4, color='0.8')\n",
    "\n",
    "xs, ys = thinkstats2.NormalProbability(mathscore)\n",
    "thinkplot.Plot(xs, ys, label='all live')\n",
    "\n",
    "thinkplot.Config(title='Normal probability plot',\n",
    "                 xlabel='Standard deviations from mean',\n",
    "                 ylabel='Math Score')"
   ]
  },
  {
   "cell_type": "markdown",
   "metadata": {},
   "source": [
    "Below we are plotting all math scores and of students who did not do any test preparation"
   ]
  },
  {
   "cell_type": "code",
   "execution_count": 39,
   "metadata": {},
   "outputs": [],
   "source": [
    "\n",
    "no_prep_mathscore = preparation_none['math score']"
   ]
  },
  {
   "cell_type": "code",
   "execution_count": 40,
   "metadata": {},
   "outputs": [
    {
     "data": {
      "image/png": "[encoded data removed]",
      "text/plain": [
       "<Figure size 432x288 with 1 Axes>"
      ]
     },
     "metadata": {
      "needs_background": "light"
     },
     "output_type": "display_data"
    }
   ],
   "source": [
    "mean, var = thinkstats2.TrimmedMeanVar(mathscore, p=0.01)\n",
    "std = np.sqrt(var)\n",
    "\n",
    "xs = [-4, 4]\n",
    "fxs, fys = thinkstats2.FitLine(xs, mean, std)\n",
    "thinkplot.Plot(fxs, fys, linewidth=4, color='0.8')\n",
    "\n",
    "thinkplot.PrePlot(2) \n",
    "xs, ys = thinkstats2.NormalProbability(mathscore)\n",
    "thinkplot.Plot(xs, ys, label='All math score')\n",
    "\n",
    "xs, ys = thinkstats2.NormalProbability(no_prep_mathscore)\n",
    "thinkplot.Plot(xs, ys, label='No Prep math score')\n",
    "thinkplot.Config(title='Normal probability plot',\n",
    "                 xlabel='Standard deviations from mean',\n",
    "                 ylabel='math score')"
   ]
  },
  {
   "cell_type": "markdown",
   "metadata": {},
   "source": [
    "## Scatter plots"
   ]
  },
  {
   "cell_type": "code",
   "execution_count": 41,
   "metadata": {},
   "outputs": [],
   "source": [
    "test_prep = df['test preparation course']"
   ]
  },
  {
   "cell_type": "code",
   "execution_count": 42,
   "metadata": {},
   "outputs": [
    {
     "data": {
      "image/png": "[encoded data removed]",
      "text/plain": [
       "<Figure size 432x288 with 1 Axes>"
      ]
     },
     "metadata": {
      "needs_background": "light"
     },
     "output_type": "display_data"
    }
   ],
   "source": [
    "thinkplot.Scatter(mathscore, test_prep, alpha=1)\n",
    "thinkplot.Config(xlabel='math score',\n",
    "                 ylabel='test preparartion',\n",
    "                 legend=False)"
   ]
  },
  {
   "cell_type": "code",
   "execution_count": 43,
   "metadata": {},
   "outputs": [
    {
     "data": {
      "image/png": "[encoded data removed]",
      "text/plain": [
       "<Figure size 432x288 with 1 Axes>"
      ]
     },
     "metadata": {
      "needs_background": "light"
     },
     "output_type": "display_data"
    }
   ],
   "source": [
    "thinkplot.Scatter(mathscore, df.gender, alpha=1)\n",
    "thinkplot.Config(xlabel='math score',\n",
    "                 ylabel='df.gender',\n",
    "                 legend=False)"
   ]
  },
  {
   "cell_type": "code",
   "execution_count": 44,
   "metadata": {},
   "outputs": [
    {
     "data": {
      "image/png": "[encoded data removed]",
      "text/plain": [
       "<Figure size 432x288 with 1 Axes>"
      ]
     },
     "metadata": {
      "needs_background": "light"
     },
     "output_type": "display_data"
    }
   ],
   "source": [
    "thinkplot.Scatter(mathscore, df['race/ethnicity'], alpha=1)\n",
    "thinkplot.Config(xlabel='math score',\n",
    "                 ylabel='race/ethnicity',\n",
    "                 legend=False)"
   ]
  },
  {
   "cell_type": "markdown",
   "metadata": {},
   "source": [
    "The following function computes the covariance of two variables using NumPy's dot function."
   ]
  },
  {
   "cell_type": "code",
   "execution_count": 45,
   "metadata": {},
   "outputs": [],
   "source": [
    "def Cov(xs, ys, meanx=None, meany=None):\n",
    "    xs = np.asarray(xs)\n",
    "    ys = np.asarray(ys)\n",
    "\n",
    "    if meanx is None:\n",
    "        meanx = np.mean(xs)\n",
    "    if meany is None:\n",
    "        meany = np.mean(ys)\n",
    "\n",
    "    cov = np.dot(xs-meanx, ys-meany) / len(xs)\n",
    "    return cov"
   ]
  },
  {
   "cell_type": "code",
   "execution_count": 46,
   "metadata": {},
   "outputs": [
    {
     "data": {
      "text/plain": [
       "211.57487400000002"
      ]
     },
     "execution_count": 46,
     "metadata": {},
     "output_type": "execute_result"
    }
   ],
   "source": [
    "Cov(df['reading score'],df['writing score'])"
   ]
  },
  {
   "cell_type": "code",
   "execution_count": 47,
   "metadata": {},
   "outputs": [
    {
     "data": {
      "text/plain": [
       "184.75419399999998"
      ]
     },
     "execution_count": 47,
     "metadata": {},
     "output_type": "execute_result"
    }
   ],
   "source": [
    "Cov(df['math score'],df['writing score'])"
   ]
  },
  {
   "cell_type": "code",
   "execution_count": 48,
   "metadata": {},
   "outputs": [
    {
     "data": {
      "text/plain": [
       "180.817959"
      ]
     },
     "execution_count": 48,
     "metadata": {},
     "output_type": "execute_result"
    }
   ],
   "source": [
    "Cov(df['math score'],df['reading score'])"
   ]
  },
  {
   "cell_type": "code",
   "execution_count": 49,
   "metadata": {},
   "outputs": [
    {
     "data": {
      "text/plain": [
       "array([[1.        , 0.95459808],\n",
       "       [0.95459808, 1.        ]])"
      ]
     },
     "execution_count": 49,
     "metadata": {},
     "output_type": "execute_result"
    }
   ],
   "source": [
    "np.corrcoef(df['reading score'],df['writing score'])"
   ]
  },
  {
   "cell_type": "code",
   "execution_count": 50,
   "metadata": {},
   "outputs": [
    {
     "data": {
      "text/plain": [
       "array([[1.        , 0.80264205],\n",
       "       [0.80264205, 1.        ]])"
      ]
     },
     "execution_count": 50,
     "metadata": {},
     "output_type": "execute_result"
    }
   ],
   "source": [
    "np.corrcoef(df['math score'],df['writing score'])"
   ]
  },
  {
   "cell_type": "code",
   "execution_count": 51,
   "metadata": {},
   "outputs": [
    {
     "data": {
      "text/plain": [
       "array([[1.        , 0.81757966],\n",
       "       [0.81757966, 1.        ]])"
      ]
     },
     "execution_count": 51,
     "metadata": {},
     "output_type": "execute_result"
    }
   ],
   "source": [
    "np.corrcoef(df['math score'],df['reading score'])"
   ]
  },
  {
   "cell_type": "code",
   "execution_count": 52,
   "metadata": {},
   "outputs": [],
   "source": [
    "def SpearmanCorr(xs, ys):\n",
    "    xs = pd.Series(xs)\n",
    "    ys = pd.Series(ys)\n",
    "    return xs.corr(ys, method='spearman')"
   ]
  },
  {
   "cell_type": "code",
   "execution_count": 53,
   "metadata": {},
   "outputs": [
    {
     "data": {
      "text/plain": [
       "-0.16980123136105515"
      ]
     },
     "execution_count": 53,
     "metadata": {},
     "output_type": "execute_result"
    }
   ],
   "source": [
    "SpearmanCorr(mathscore, test_prep)"
   ]
  },
  {
   "cell_type": "code",
   "execution_count": 54,
   "metadata": {},
   "outputs": [
    {
     "data": {
      "text/plain": [
       "0.15997152360954472"
      ]
     },
     "execution_count": 54,
     "metadata": {},
     "output_type": "execute_result"
    }
   ],
   "source": [
    "SpearmanCorr(mathscore, df.gender)"
   ]
  },
  {
   "cell_type": "code",
   "execution_count": 55,
   "metadata": {},
   "outputs": [
    {
     "data": {
      "text/plain": [
       "0.22043575725337788"
      ]
     },
     "execution_count": 55,
     "metadata": {},
     "output_type": "execute_result"
    }
   ],
   "source": [
    "SpearmanCorr(mathscore, df['race/ethnicity'])"
   ]
  },
  {
   "cell_type": "code",
   "execution_count": 56,
   "metadata": {},
   "outputs": [
    {
     "data": {
      "text/plain": [
       "-0.05729430219255867"
      ]
     },
     "execution_count": 56,
     "metadata": {},
     "output_type": "execute_result"
    }
   ],
   "source": [
    "SpearmanCorr(mathscore, df['parental level of education'])"
   ]
  },
  {
   "cell_type": "code",
   "execution_count": 57,
   "metadata": {},
   "outputs": [
    {
     "data": {
      "text/plain": [
       "0.3373548156961253"
      ]
     },
     "execution_count": 57,
     "metadata": {},
     "output_type": "execute_result"
    }
   ],
   "source": [
    "SpearmanCorr(mathscore, df['lunch'])"
   ]
  },
  {
   "cell_type": "markdown",
   "metadata": {},
   "source": [
    "Using the spearman rank correlation, we can see from the above examples that\n",
    "#a. mathscore, test_prep - have a negative correlation\n",
    "#b. mathscore, df.gender - have a positive correlation\n",
    "#c. mathscore, race/ethnicity - have a positive corelation.\n",
    "#d. mathscore, parental level of education - have a negative corelation.\n",
    "#e. mathscore, lunch - have a positive corelation.\n"
   ]
  },
  {
   "cell_type": "markdown",
   "metadata": {},
   "source": [
    "## Hypothesis Testing"
   ]
  },
  {
   "cell_type": "code",
   "execution_count": 58,
   "metadata": {},
   "outputs": [],
   "source": [
    "class DiffMeansPermute(thinkstats2.HypothesisTest):\n",
    "\n",
    "    def TestStatistic(self, data):\n",
    "        group1, group2 = data\n",
    "        test_stat = abs(group1.mean() - group2.mean())\n",
    "        return test_stat\n",
    "\n",
    "    def MakeModel(self):\n",
    "        group1, group2 = self.data\n",
    "        self.n, self.m = len(group1), len(group2)\n",
    "        self.pool = np.hstack((group1, group2))\n",
    "\n",
    "    def RunModel(self):\n",
    "        np.random.shuffle(self.pool)\n",
    "        data = self.pool[:self.n], self.pool[self.n:]\n",
    "        return data"
   ]
  },
  {
   "cell_type": "code",
   "execution_count": 59,
   "metadata": {},
   "outputs": [
    {
     "data": {
      "text/plain": [
       "0.0"
      ]
     },
     "execution_count": 59,
     "metadata": {},
     "output_type": "execute_result"
    }
   ],
   "source": [
    "data = preparation_completed['math score'].values, preparation_none['math score'].values\n",
    "ht = DiffMeansPermute(data)\n",
    "pvalue = ht.PValue()\n",
    "pvalue"
   ]
  },
  {
   "cell_type": "markdown",
   "metadata": {},
   "source": [
    "The p-value is 0, which means the chance of null hypothesis being true is 0%."
   ]
  },
  {
   "cell_type": "markdown",
   "metadata": {},
   "source": [
    "## Regression Analysis"
   ]
  },
  {
   "cell_type": "code",
   "execution_count": 60,
   "metadata": {},
   "outputs": [],
   "source": [
    "df.rename(columns = {'math score':'math_score'}, inplace = True)\n",
    "df.rename(columns = {'test preparation course':'test_preparation_course'}, inplace = True)\n",
    "df.rename(columns = {'race/ethnicity':'race_ethnicity'}, inplace = True)\n",
    "df.rename(columns = {'parental level of education':'parental_level_of_education'}, inplace = True)\n",
    "df.rename(columns = {'reading score':'reading_score'}, inplace = True)\n",
    "df.rename(columns = {'writing score':'writing_score'}, inplace = True)"
   ]
  },
  {
   "cell_type": "markdown",
   "metadata": {},
   "source": [
    "### simple regression"
   ]
  },
  {
   "cell_type": "code",
   "execution_count": 61,
   "metadata": {},
   "outputs": [
    {
     "data": {
      "text/html": [
       "<table class=\"simpletable\">\n",
       "<caption>OLS Regression Results</caption>\n",
       "<tr>\n",
       "  <th>Dep. Variable:</th>       <td>math_score</td>    <th>  R-squared:         </th> <td>   0.032</td>\n",
       "</tr>\n",
       "<tr>\n",
       "  <th>Model:</th>                   <td>OLS</td>       <th>  Adj. R-squared:    </th> <td>   0.031</td>\n",
       "</tr>\n",
       "<tr>\n",
       "  <th>Method:</th>             <td>Least Squares</td>  <th>  F-statistic:       </th> <td>   32.54</td>\n",
       "</tr>\n",
       "<tr>\n",
       "  <th>Date:</th>             <td>Sun, 06 Jun 2021</td> <th>  Prob (F-statistic):</th> <td>1.54e-08</td>\n",
       "</tr>\n",
       "<tr>\n",
       "  <th>Time:</th>                 <td>21:12:06</td>     <th>  Log-Likelihood:    </th> <td> -4121.3</td>\n",
       "</tr>\n",
       "<tr>\n",
       "  <th>No. Observations:</th>      <td>  1000</td>      <th>  AIC:               </th> <td>   8247.</td>\n",
       "</tr>\n",
       "<tr>\n",
       "  <th>Df Residuals:</th>          <td>   998</td>      <th>  BIC:               </th> <td>   8256.</td>\n",
       "</tr>\n",
       "<tr>\n",
       "  <th>Df Model:</th>              <td>     1</td>      <th>                     </th>     <td> </td>   \n",
       "</tr>\n",
       "<tr>\n",
       "  <th>Covariance Type:</th>      <td>nonrobust</td>    <th>                     </th>     <td> </td>   \n",
       "</tr>\n",
       "</table>\n",
       "<table class=\"simpletable\">\n",
       "<tr>\n",
       "                 <td></td>                    <th>coef</th>     <th>std err</th>      <th>t</th>      <th>P>|t|</th>  <th>[0.025</th>    <th>0.975]</th>  \n",
       "</tr>\n",
       "<tr>\n",
       "  <th>Intercept</th>                       <td>   69.6955</td> <td>    0.789</td> <td>   88.330</td> <td> 0.000</td> <td>   68.147</td> <td>   71.244</td>\n",
       "</tr>\n",
       "<tr>\n",
       "  <th>test_preparation_course[T.none]</th> <td>   -5.6176</td> <td>    0.985</td> <td>   -5.705</td> <td> 0.000</td> <td>   -7.550</td> <td>   -3.685</td>\n",
       "</tr>\n",
       "</table>\n",
       "<table class=\"simpletable\">\n",
       "<tr>\n",
       "  <th>Omnibus:</th>       <td>13.857</td> <th>  Durbin-Watson:     </th> <td>   2.086</td>\n",
       "</tr>\n",
       "<tr>\n",
       "  <th>Prob(Omnibus):</th> <td> 0.001</td> <th>  Jarque-Bera (JB):  </th> <td>  14.112</td>\n",
       "</tr>\n",
       "<tr>\n",
       "  <th>Skew:</th>          <td>-0.270</td> <th>  Prob(JB):          </th> <td>0.000862</td>\n",
       "</tr>\n",
       "<tr>\n",
       "  <th>Kurtosis:</th>      <td> 3.219</td> <th>  Cond. No.          </th> <td>    3.10</td>\n",
       "</tr>\n",
       "</table><br/><br/>Notes:<br/>[1] Standard Errors assume that the covariance matrix of the errors is correctly specified."
      ],
      "text/plain": [
       "<class 'statsmodels.iolib.summary.Summary'>\n",
       "\"\"\"\n",
       "                            OLS Regression Results                            \n",
       "==============================================================================\n",
       "Dep. Variable:             math_score   R-squared:                       0.032\n",
       "Model:                            OLS   Adj. R-squared:                  0.031\n",
       "Method:                 Least Squares   F-statistic:                     32.54\n",
       "Date:                Sun, 06 Jun 2021   Prob (F-statistic):           1.54e-08\n",
       "Time:                        21:12:06   Log-Likelihood:                -4121.3\n",
       "No. Observations:                1000   AIC:                             8247.\n",
       "Df Residuals:                     998   BIC:                             8256.\n",
       "Df Model:                           1                                         \n",
       "Covariance Type:            nonrobust                                         \n",
       "===================================================================================================\n",
       "                                      coef    std err          t      P>|t|      [0.025      0.975]\n",
       "---------------------------------------------------------------------------------------------------\n",
       "Intercept                          69.6955      0.789     88.330      0.000      68.147      71.244\n",
       "test_preparation_course[T.none]    -5.6176      0.985     -5.705      0.000      -7.550      -3.685\n",
       "==============================================================================\n",
       "Omnibus:                       13.857   Durbin-Watson:                   2.086\n",
       "Prob(Omnibus):                  0.001   Jarque-Bera (JB):               14.112\n",
       "Skew:                          -0.270   Prob(JB):                     0.000862\n",
       "Kurtosis:                       3.219   Cond. No.                         3.10\n",
       "==============================================================================\n",
       "\n",
       "Notes:\n",
       "[1] Standard Errors assume that the covariance matrix of the errors is correctly specified.\n",
       "\"\"\""
      ]
     },
     "execution_count": 61,
     "metadata": {},
     "output_type": "execute_result"
    }
   ],
   "source": [
    "import statsmodels.formula.api as smf\n",
    "\n",
    "formula = 'math_score~test_preparation_course'\n",
    "model = smf.ols(formula, data=df)\n",
    "results = model.fit()\n",
    "results.summary()"
   ]
  },
  {
   "cell_type": "markdown",
   "metadata": {},
   "source": [
    "From the above we can see the slope and the intercept are statistically significant, which means that they were unlikely to occur by chance, but the R2 value for this model is small.\n",
    "which means that \"test preparation course\" doesn’t account for a substantial part of the variation in math score."
   ]
  },
  {
   "cell_type": "code",
   "execution_count": 62,
   "metadata": {},
   "outputs": [
    {
     "data": {
      "text/html": [
       "<table class=\"simpletable\">\n",
       "<caption>OLS Regression Results</caption>\n",
       "<tr>\n",
       "  <th>Dep. Variable:</th>       <td>math_score</td>    <th>  R-squared:         </th> <td>   0.123</td>\n",
       "</tr>\n",
       "<tr>\n",
       "  <th>Model:</th>                   <td>OLS</td>       <th>  Adj. R-squared:    </th> <td>   0.122</td>\n",
       "</tr>\n",
       "<tr>\n",
       "  <th>Method:</th>             <td>Least Squares</td>  <th>  F-statistic:       </th> <td>   140.1</td>\n",
       "</tr>\n",
       "<tr>\n",
       "  <th>Date:</th>             <td>Sun, 06 Jun 2021</td> <th>  Prob (F-statistic):</th> <td>2.41e-30</td>\n",
       "</tr>\n",
       "<tr>\n",
       "  <th>Time:</th>                 <td>21:12:06</td>     <th>  Log-Likelihood:    </th> <td> -4071.6</td>\n",
       "</tr>\n",
       "<tr>\n",
       "  <th>No. Observations:</th>      <td>  1000</td>      <th>  AIC:               </th> <td>   8147.</td>\n",
       "</tr>\n",
       "<tr>\n",
       "  <th>Df Residuals:</th>          <td>   998</td>      <th>  BIC:               </th> <td>   8157.</td>\n",
       "</tr>\n",
       "<tr>\n",
       "  <th>Df Model:</th>              <td>     1</td>      <th>                     </th>     <td> </td>   \n",
       "</tr>\n",
       "<tr>\n",
       "  <th>Covariance Type:</th>      <td>nonrobust</td>    <th>                     </th>     <td> </td>   \n",
       "</tr>\n",
       "</table>\n",
       "<table class=\"simpletable\">\n",
       "<tr>\n",
       "          <td></td>             <th>coef</th>     <th>std err</th>      <th>t</th>      <th>P>|t|</th>  <th>[0.025</th>    <th>0.975]</th>  \n",
       "</tr>\n",
       "<tr>\n",
       "  <th>Intercept</th>         <td>   58.9211</td> <td>    0.754</td> <td>   78.146</td> <td> 0.000</td> <td>   57.442</td> <td>   60.401</td>\n",
       "</tr>\n",
       "<tr>\n",
       "  <th>lunch[T.standard]</th> <td>   11.1130</td> <td>    0.939</td> <td>   11.837</td> <td> 0.000</td> <td>    9.271</td> <td>   12.955</td>\n",
       "</tr>\n",
       "</table>\n",
       "<table class=\"simpletable\">\n",
       "<tr>\n",
       "  <th>Omnibus:</th>       <td> 6.905</td> <th>  Durbin-Watson:     </th> <td>   2.086</td>\n",
       "</tr>\n",
       "<tr>\n",
       "  <th>Prob(Omnibus):</th> <td> 0.032</td> <th>  Jarque-Bera (JB):  </th> <td>   6.796</td>\n",
       "</tr>\n",
       "<tr>\n",
       "  <th>Skew:</th>          <td>-0.192</td> <th>  Prob(JB):          </th> <td>  0.0334</td>\n",
       "</tr>\n",
       "<tr>\n",
       "  <th>Kurtosis:</th>      <td> 3.123</td> <th>  Cond. No.          </th> <td>    3.12</td>\n",
       "</tr>\n",
       "</table><br/><br/>Notes:<br/>[1] Standard Errors assume that the covariance matrix of the errors is correctly specified."
      ],
      "text/plain": [
       "<class 'statsmodels.iolib.summary.Summary'>\n",
       "\"\"\"\n",
       "                            OLS Regression Results                            \n",
       "==============================================================================\n",
       "Dep. Variable:             math_score   R-squared:                       0.123\n",
       "Model:                            OLS   Adj. R-squared:                  0.122\n",
       "Method:                 Least Squares   F-statistic:                     140.1\n",
       "Date:                Sun, 06 Jun 2021   Prob (F-statistic):           2.41e-30\n",
       "Time:                        21:12:06   Log-Likelihood:                -4071.6\n",
       "No. Observations:                1000   AIC:                             8147.\n",
       "Df Residuals:                     998   BIC:                             8157.\n",
       "Df Model:                           1                                         \n",
       "Covariance Type:            nonrobust                                         \n",
       "=====================================================================================\n",
       "                        coef    std err          t      P>|t|      [0.025      0.975]\n",
       "-------------------------------------------------------------------------------------\n",
       "Intercept            58.9211      0.754     78.146      0.000      57.442      60.401\n",
       "lunch[T.standard]    11.1130      0.939     11.837      0.000       9.271      12.955\n",
       "==============================================================================\n",
       "Omnibus:                        6.905   Durbin-Watson:                   2.086\n",
       "Prob(Omnibus):                  0.032   Jarque-Bera (JB):                6.796\n",
       "Skew:                          -0.192   Prob(JB):                       0.0334\n",
       "Kurtosis:                       3.123   Cond. No.                         3.12\n",
       "==============================================================================\n",
       "\n",
       "Notes:\n",
       "[1] Standard Errors assume that the covariance matrix of the errors is correctly specified.\n",
       "\"\"\""
      ]
     },
     "execution_count": 62,
     "metadata": {},
     "output_type": "execute_result"
    }
   ],
   "source": [
    "formula = 'math_score~lunch'\n",
    "model = smf.ols(formula, data=df)\n",
    "results = model.fit()\n",
    "results.summary()"
   ]
  },
  {
   "cell_type": "markdown",
   "metadata": {},
   "source": [
    "From the above we can see the slope and the intercept are statistically significant, which means that they were unlik ely to occur by chance, and we see the R2 value for this model also significant. which means that \"lunch\"  accounts for a 12% of the variation in math score."
   ]
  },
  {
   "cell_type": "markdown",
   "metadata": {},
   "source": [
    "### multiple regression"
   ]
  },
  {
   "cell_type": "code",
   "execution_count": 63,
   "metadata": {},
   "outputs": [
    {
     "data": {
      "text/html": [
       "<table class=\"simpletable\">\n",
       "<caption>OLS Regression Results</caption>\n",
       "<tr>\n",
       "  <th>Dep. Variable:</th>       <td>math_score</td>    <th>  R-squared:         </th> <td>   0.084</td>\n",
       "</tr>\n",
       "<tr>\n",
       "  <th>Model:</th>                   <td>OLS</td>       <th>  Adj. R-squared:    </th> <td>   0.080</td>\n",
       "</tr>\n",
       "<tr>\n",
       "  <th>Method:</th>             <td>Least Squares</td>  <th>  F-statistic:       </th> <td>   18.29</td>\n",
       "</tr>\n",
       "<tr>\n",
       "  <th>Date:</th>             <td>Sun, 06 Jun 2021</td> <th>  Prob (F-statistic):</th> <td>2.12e-17</td>\n",
       "</tr>\n",
       "<tr>\n",
       "  <th>Time:</th>                 <td>21:12:06</td>     <th>  Log-Likelihood:    </th> <td> -4093.3</td>\n",
       "</tr>\n",
       "<tr>\n",
       "  <th>No. Observations:</th>      <td>  1000</td>      <th>  AIC:               </th> <td>   8199.</td>\n",
       "</tr>\n",
       "<tr>\n",
       "  <th>Df Residuals:</th>          <td>   994</td>      <th>  BIC:               </th> <td>   8228.</td>\n",
       "</tr>\n",
       "<tr>\n",
       "  <th>Df Model:</th>              <td>     5</td>      <th>                     </th>     <td> </td>   \n",
       "</tr>\n",
       "<tr>\n",
       "  <th>Covariance Type:</th>      <td>nonrobust</td>    <th>                     </th>     <td> </td>   \n",
       "</tr>\n",
       "</table>\n",
       "<table class=\"simpletable\">\n",
       "<tr>\n",
       "                 <td></td>                    <th>coef</th>     <th>std err</th>      <th>t</th>      <th>P>|t|</th>  <th>[0.025</th>    <th>0.975]</th>  \n",
       "</tr>\n",
       "<tr>\n",
       "  <th>Intercept</th>                       <td>   65.1372</td> <td>    1.665</td> <td>   39.132</td> <td> 0.000</td> <td>   61.871</td> <td>   68.404</td>\n",
       "</tr>\n",
       "<tr>\n",
       "  <th>test_preparation_course[T.none]</th> <td>   -5.3830</td> <td>    0.962</td> <td>   -5.595</td> <td> 0.000</td> <td>   -7.271</td> <td>   -3.495</td>\n",
       "</tr>\n",
       "<tr>\n",
       "  <th>race_ethnicity[T.group B]</th>       <td>    1.7718</td> <td>    1.869</td> <td>    0.948</td> <td> 0.343</td> <td>   -1.895</td> <td>    5.439</td>\n",
       "</tr>\n",
       "<tr>\n",
       "  <th>race_ethnicity[T.group C]</th>       <td>    2.7354</td> <td>    1.744</td> <td>    1.569</td> <td> 0.117</td> <td>   -0.687</td> <td>    6.158</td>\n",
       "</tr>\n",
       "<tr>\n",
       "  <th>race_ethnicity[T.group D]</th>       <td>    5.9236</td> <td>    1.785</td> <td>    3.318</td> <td> 0.001</td> <td>    2.421</td> <td>    9.427</td>\n",
       "</tr>\n",
       "<tr>\n",
       "  <th>race_ethnicity[T.group E]</th>       <td>   11.7602</td> <td>    1.974</td> <td>    5.959</td> <td> 0.000</td> <td>    7.887</td> <td>   15.633</td>\n",
       "</tr>\n",
       "</table>\n",
       "<table class=\"simpletable\">\n",
       "<tr>\n",
       "  <th>Omnibus:</th>       <td>19.128</td> <th>  Durbin-Watson:     </th> <td>   2.047</td>\n",
       "</tr>\n",
       "<tr>\n",
       "  <th>Prob(Omnibus):</th> <td> 0.000</td> <th>  Jarque-Bera (JB):  </th> <td>  19.970</td>\n",
       "</tr>\n",
       "<tr>\n",
       "  <th>Skew:</th>          <td>-0.315</td> <th>  Prob(JB):          </th> <td>4.61e-05</td>\n",
       "</tr>\n",
       "<tr>\n",
       "  <th>Kurtosis:</th>      <td> 3.286</td> <th>  Cond. No.          </th> <td>    10.2</td>\n",
       "</tr>\n",
       "</table><br/><br/>Notes:<br/>[1] Standard Errors assume that the covariance matrix of the errors is correctly specified."
      ],
      "text/plain": [
       "<class 'statsmodels.iolib.summary.Summary'>\n",
       "\"\"\"\n",
       "                            OLS Regression Results                            \n",
       "==============================================================================\n",
       "Dep. Variable:             math_score   R-squared:                       0.084\n",
       "Model:                            OLS   Adj. R-squared:                  0.080\n",
       "Method:                 Least Squares   F-statistic:                     18.29\n",
       "Date:                Sun, 06 Jun 2021   Prob (F-statistic):           2.12e-17\n",
       "Time:                        21:12:06   Log-Likelihood:                -4093.3\n",
       "No. Observations:                1000   AIC:                             8199.\n",
       "Df Residuals:                     994   BIC:                             8228.\n",
       "Df Model:                           5                                         \n",
       "Covariance Type:            nonrobust                                         \n",
       "===================================================================================================\n",
       "                                      coef    std err          t      P>|t|      [0.025      0.975]\n",
       "---------------------------------------------------------------------------------------------------\n",
       "Intercept                          65.1372      1.665     39.132      0.000      61.871      68.404\n",
       "test_preparation_course[T.none]    -5.3830      0.962     -5.595      0.000      -7.271      -3.495\n",
       "race_ethnicity[T.group B]           1.7718      1.869      0.948      0.343      -1.895       5.439\n",
       "race_ethnicity[T.group C]           2.7354      1.744      1.569      0.117      -0.687       6.158\n",
       "race_ethnicity[T.group D]           5.9236      1.785      3.318      0.001       2.421       9.427\n",
       "race_ethnicity[T.group E]          11.7602      1.974      5.959      0.000       7.887      15.633\n",
       "==============================================================================\n",
       "Omnibus:                       19.128   Durbin-Watson:                   2.047\n",
       "Prob(Omnibus):                  0.000   Jarque-Bera (JB):               19.970\n",
       "Skew:                          -0.315   Prob(JB):                     4.61e-05\n",
       "Kurtosis:                       3.286   Cond. No.                         10.2\n",
       "==============================================================================\n",
       "\n",
       "Notes:\n",
       "[1] Standard Errors assume that the covariance matrix of the errors is correctly specified.\n",
       "\"\"\""
      ]
     },
     "execution_count": 63,
     "metadata": {},
     "output_type": "execute_result"
    }
   ],
   "source": [
    "formula = 'math_score~test_preparation_course+race_ethnicity'\n",
    "model = smf.ols(formula, data=df)\n",
    "results = model.fit()\n",
    "results.summary()"
   ]
  },
  {
   "cell_type": "markdown",
   "metadata": {},
   "source": [
    "From the above we can see the slope and the intercept are statistically significant, which means that they were unlikely to occur by chance, but the the R2 value for this model is still small but bigger when we added race/ethnicity along with test preparation course. which means that race/ethnicity along with test preparation course increases the effoect on the math marks but yet not statristically significant."
   ]
  },
  {
   "cell_type": "code",
   "execution_count": 64,
   "metadata": {},
   "outputs": [
    {
     "data": {
      "text/html": [
       "<table class=\"simpletable\">\n",
       "<caption>OLS Regression Results</caption>\n",
       "<tr>\n",
       "  <th>Dep. Variable:</th>       <td>math_score</td>    <th>  R-squared:         </th> <td>   0.202</td>\n",
       "</tr>\n",
       "<tr>\n",
       "  <th>Model:</th>                   <td>OLS</td>       <th>  Adj. R-squared:    </th> <td>   0.197</td>\n",
       "</tr>\n",
       "<tr>\n",
       "  <th>Method:</th>             <td>Least Squares</td>  <th>  F-statistic:       </th> <td>   41.80</td>\n",
       "</tr>\n",
       "<tr>\n",
       "  <th>Date:</th>             <td>Sun, 06 Jun 2021</td> <th>  Prob (F-statistic):</th> <td>1.41e-45</td>\n",
       "</tr>\n",
       "<tr>\n",
       "  <th>Time:</th>                 <td>21:12:06</td>     <th>  Log-Likelihood:    </th> <td> -4024.7</td>\n",
       "</tr>\n",
       "<tr>\n",
       "  <th>No. Observations:</th>      <td>  1000</td>      <th>  AIC:               </th> <td>   8063.</td>\n",
       "</tr>\n",
       "<tr>\n",
       "  <th>Df Residuals:</th>          <td>   993</td>      <th>  BIC:               </th> <td>   8098.</td>\n",
       "</tr>\n",
       "<tr>\n",
       "  <th>Df Model:</th>              <td>     6</td>      <th>                     </th>     <td> </td>   \n",
       "</tr>\n",
       "<tr>\n",
       "  <th>Covariance Type:</th>      <td>nonrobust</td>    <th>                     </th>     <td> </td>   \n",
       "</tr>\n",
       "</table>\n",
       "<table class=\"simpletable\">\n",
       "<tr>\n",
       "                 <td></td>                    <th>coef</th>     <th>std err</th>      <th>t</th>      <th>P>|t|</th>  <th>[0.025</th>    <th>0.975]</th>  \n",
       "</tr>\n",
       "<tr>\n",
       "  <th>Intercept</th>                       <td>   58.8067</td> <td>    1.641</td> <td>   35.839</td> <td> 0.000</td> <td>   55.587</td> <td>   62.027</td>\n",
       "</tr>\n",
       "<tr>\n",
       "  <th>test_preparation_course[T.none]</th> <td>   -5.6042</td> <td>    0.899</td> <td>   -6.234</td> <td> 0.000</td> <td>   -7.368</td> <td>   -3.840</td>\n",
       "</tr>\n",
       "<tr>\n",
       "  <th>race_ethnicity[T.group B]</th>       <td>    1.3203</td> <td>    1.746</td> <td>    0.756</td> <td> 0.450</td> <td>   -2.106</td> <td>    4.746</td>\n",
       "</tr>\n",
       "<tr>\n",
       "  <th>race_ethnicity[T.group C]</th>       <td>    2.2189</td> <td>    1.630</td> <td>    1.362</td> <td> 0.174</td> <td>   -0.979</td> <td>    5.417</td>\n",
       "</tr>\n",
       "<tr>\n",
       "  <th>race_ethnicity[T.group D]</th>       <td>    5.4759</td> <td>    1.668</td> <td>    3.283</td> <td> 0.001</td> <td>    2.203</td> <td>    8.749</td>\n",
       "</tr>\n",
       "<tr>\n",
       "  <th>race_ethnicity[T.group E]</th>       <td>   10.5287</td> <td>    1.846</td> <td>    5.702</td> <td> 0.000</td> <td>    6.905</td> <td>   14.152</td>\n",
       "</tr>\n",
       "<tr>\n",
       "  <th>lunch[T.standard]</th>               <td>   10.8725</td> <td>    0.900</td> <td>   12.083</td> <td> 0.000</td> <td>    9.107</td> <td>   12.638</td>\n",
       "</tr>\n",
       "</table>\n",
       "<table class=\"simpletable\">\n",
       "<tr>\n",
       "  <th>Omnibus:</th>       <td> 8.744</td> <th>  Durbin-Watson:     </th> <td>   2.072</td>\n",
       "</tr>\n",
       "<tr>\n",
       "  <th>Prob(Omnibus):</th> <td> 0.013</td> <th>  Jarque-Bera (JB):  </th> <td>   8.721</td>\n",
       "</tr>\n",
       "<tr>\n",
       "  <th>Skew:</th>          <td>-0.226</td> <th>  Prob(JB):          </th> <td>  0.0128</td>\n",
       "</tr>\n",
       "<tr>\n",
       "  <th>Kurtosis:</th>      <td> 3.070</td> <th>  Cond. No.          </th> <td>    11.4</td>\n",
       "</tr>\n",
       "</table><br/><br/>Notes:<br/>[1] Standard Errors assume that the covariance matrix of the errors is correctly specified."
      ],
      "text/plain": [
       "<class 'statsmodels.iolib.summary.Summary'>\n",
       "\"\"\"\n",
       "                            OLS Regression Results                            \n",
       "==============================================================================\n",
       "Dep. Variable:             math_score   R-squared:                       0.202\n",
       "Model:                            OLS   Adj. R-squared:                  0.197\n",
       "Method:                 Least Squares   F-statistic:                     41.80\n",
       "Date:                Sun, 06 Jun 2021   Prob (F-statistic):           1.41e-45\n",
       "Time:                        21:12:06   Log-Likelihood:                -4024.7\n",
       "No. Observations:                1000   AIC:                             8063.\n",
       "Df Residuals:                     993   BIC:                             8098.\n",
       "Df Model:                           6                                         \n",
       "Covariance Type:            nonrobust                                         \n",
       "===================================================================================================\n",
       "                                      coef    std err          t      P>|t|      [0.025      0.975]\n",
       "---------------------------------------------------------------------------------------------------\n",
       "Intercept                          58.8067      1.641     35.839      0.000      55.587      62.027\n",
       "test_preparation_course[T.none]    -5.6042      0.899     -6.234      0.000      -7.368      -3.840\n",
       "race_ethnicity[T.group B]           1.3203      1.746      0.756      0.450      -2.106       4.746\n",
       "race_ethnicity[T.group C]           2.2189      1.630      1.362      0.174      -0.979       5.417\n",
       "race_ethnicity[T.group D]           5.4759      1.668      3.283      0.001       2.203       8.749\n",
       "race_ethnicity[T.group E]          10.5287      1.846      5.702      0.000       6.905      14.152\n",
       "lunch[T.standard]                  10.8725      0.900     12.083      0.000       9.107      12.638\n",
       "==============================================================================\n",
       "Omnibus:                        8.744   Durbin-Watson:                   2.072\n",
       "Prob(Omnibus):                  0.013   Jarque-Bera (JB):                8.721\n",
       "Skew:                          -0.226   Prob(JB):                       0.0128\n",
       "Kurtosis:                       3.070   Cond. No.                         11.4\n",
       "==============================================================================\n",
       "\n",
       "Notes:\n",
       "[1] Standard Errors assume that the covariance matrix of the errors is correctly specified.\n",
       "\"\"\""
      ]
     },
     "execution_count": 64,
     "metadata": {},
     "output_type": "execute_result"
    }
   ],
   "source": [
    "formula = 'math_score~test_preparation_course+race_ethnicity+lunch'\n",
    "model = smf.ols(formula, data=df)\n",
    "results = model.fit()\n",
    "results.summary()"
   ]
  },
  {
   "cell_type": "markdown",
   "metadata": {},
   "source": [
    "From the above we can see test_preparation_course+race_ethnicity+lunch accounts for 20% (R2 0.202) of the variation in math score"
   ]
  },
  {
   "cell_type": "code",
   "execution_count": 65,
   "metadata": {},
   "outputs": [
    {
     "data": {
      "text/html": [
       "<table class=\"simpletable\">\n",
       "<caption>OLS Regression Results</caption>\n",
       "<tr>\n",
       "  <th>Dep. Variable:</th>       <td>math_score</td>    <th>  R-squared:         </th> <td>   0.255</td>\n",
       "</tr>\n",
       "<tr>\n",
       "  <th>Model:</th>                   <td>OLS</td>       <th>  Adj. R-squared:    </th> <td>   0.246</td>\n",
       "</tr>\n",
       "<tr>\n",
       "  <th>Method:</th>             <td>Least Squares</td>  <th>  F-statistic:       </th> <td>   28.12</td>\n",
       "</tr>\n",
       "<tr>\n",
       "  <th>Date:</th>             <td>Sun, 06 Jun 2021</td> <th>  Prob (F-statistic):</th> <td>2.62e-55</td>\n",
       "</tr>\n",
       "<tr>\n",
       "  <th>Time:</th>                 <td>21:12:06</td>     <th>  Log-Likelihood:    </th> <td> -3990.3</td>\n",
       "</tr>\n",
       "<tr>\n",
       "  <th>No. Observations:</th>      <td>  1000</td>      <th>  AIC:               </th> <td>   8007.</td>\n",
       "</tr>\n",
       "<tr>\n",
       "  <th>Df Residuals:</th>          <td>   987</td>      <th>  BIC:               </th> <td>   8070.</td>\n",
       "</tr>\n",
       "<tr>\n",
       "  <th>Df Model:</th>              <td>    12</td>      <th>                     </th>     <td> </td>   \n",
       "</tr>\n",
       "<tr>\n",
       "  <th>Covariance Type:</th>      <td>nonrobust</td>    <th>                     </th>     <td> </td>   \n",
       "</tr>\n",
       "</table>\n",
       "<table class=\"simpletable\">\n",
       "<tr>\n",
       "                          <td></td>                            <th>coef</th>     <th>std err</th>      <th>t</th>      <th>P>|t|</th>  <th>[0.025</th>    <th>0.975]</th>  \n",
       "</tr>\n",
       "<tr>\n",
       "  <th>Intercept</th>                                        <td>   57.6305</td> <td>    1.872</td> <td>   30.784</td> <td> 0.000</td> <td>   53.957</td> <td>   61.304</td>\n",
       "</tr>\n",
       "<tr>\n",
       "  <th>test_preparation_course[T.none]</th>                  <td>   -5.4947</td> <td>    0.876</td> <td>   -6.275</td> <td> 0.000</td> <td>   -7.213</td> <td>   -3.776</td>\n",
       "</tr>\n",
       "<tr>\n",
       "  <th>race_ethnicity[T.group B]</th>                        <td>    2.0408</td> <td>    1.700</td> <td>    1.201</td> <td> 0.230</td> <td>   -1.295</td> <td>    5.376</td>\n",
       "</tr>\n",
       "<tr>\n",
       "  <th>race_ethnicity[T.group C]</th>                        <td>    2.4700</td> <td>    1.592</td> <td>    1.552</td> <td> 0.121</td> <td>   -0.654</td> <td>    5.594</td>\n",
       "</tr>\n",
       "<tr>\n",
       "  <th>race_ethnicity[T.group D]</th>                        <td>    5.3410</td> <td>    1.624</td> <td>    3.289</td> <td> 0.001</td> <td>    2.154</td> <td>    8.528</td>\n",
       "</tr>\n",
       "<tr>\n",
       "  <th>race_ethnicity[T.group E]</th>                        <td>   10.1347</td> <td>    1.802</td> <td>    5.626</td> <td> 0.000</td> <td>    6.599</td> <td>   13.670</td>\n",
       "</tr>\n",
       "<tr>\n",
       "  <th>lunch[T.standard]</th>                                <td>   10.8768</td> <td>    0.873</td> <td>   12.463</td> <td> 0.000</td> <td>    9.164</td> <td>   12.589</td>\n",
       "</tr>\n",
       "<tr>\n",
       "  <th>parental_level_of_education[T.bachelor's degree]</th> <td>    1.9661</td> <td>    1.502</td> <td>    1.309</td> <td> 0.191</td> <td>   -0.981</td> <td>    4.913</td>\n",
       "</tr>\n",
       "<tr>\n",
       "  <th>parental_level_of_education[T.high school]</th>       <td>   -4.8027</td> <td>    1.297</td> <td>   -3.703</td> <td> 0.000</td> <td>   -7.348</td> <td>   -2.257</td>\n",
       "</tr>\n",
       "<tr>\n",
       "  <th>parental_level_of_education[T.master's degree]</th>   <td>    2.8884</td> <td>    1.938</td> <td>    1.490</td> <td> 0.136</td> <td>   -0.915</td> <td>    6.692</td>\n",
       "</tr>\n",
       "<tr>\n",
       "  <th>parental_level_of_education[T.some college]</th>      <td>   -0.5827</td> <td>    1.247</td> <td>   -0.467</td> <td> 0.640</td> <td>   -3.030</td> <td>    1.864</td>\n",
       "</tr>\n",
       "<tr>\n",
       "  <th>parental_level_of_education[T.some high school]</th>  <td>   -4.2487</td> <td>    1.333</td> <td>   -3.187</td> <td> 0.001</td> <td>   -6.865</td> <td>   -1.633</td>\n",
       "</tr>\n",
       "<tr>\n",
       "  <th>gender[T.male]</th>                                   <td>    4.9953</td> <td>    0.839</td> <td>    5.954</td> <td> 0.000</td> <td>    3.349</td> <td>    6.642</td>\n",
       "</tr>\n",
       "</table>\n",
       "<table class=\"simpletable\">\n",
       "<tr>\n",
       "  <th>Omnibus:</th>       <td> 9.026</td> <th>  Durbin-Watson:     </th> <td>   2.043</td>\n",
       "</tr>\n",
       "<tr>\n",
       "  <th>Prob(Omnibus):</th> <td> 0.011</td> <th>  Jarque-Bera (JB):  </th> <td>   9.201</td>\n",
       "</tr>\n",
       "<tr>\n",
       "  <th>Skew:</th>          <td>-0.232</td> <th>  Prob(JB):          </th> <td>  0.0100</td>\n",
       "</tr>\n",
       "<tr>\n",
       "  <th>Kurtosis:</th>      <td> 2.928</td> <th>  Cond. No.          </th> <td>    12.9</td>\n",
       "</tr>\n",
       "</table><br/><br/>Notes:<br/>[1] Standard Errors assume that the covariance matrix of the errors is correctly specified."
      ],
      "text/plain": [
       "<class 'statsmodels.iolib.summary.Summary'>\n",
       "\"\"\"\n",
       "                            OLS Regression Results                            \n",
       "==============================================================================\n",
       "Dep. Variable:             math_score   R-squared:                       0.255\n",
       "Model:                            OLS   Adj. R-squared:                  0.246\n",
       "Method:                 Least Squares   F-statistic:                     28.12\n",
       "Date:                Sun, 06 Jun 2021   Prob (F-statistic):           2.62e-55\n",
       "Time:                        21:12:06   Log-Likelihood:                -3990.3\n",
       "No. Observations:                1000   AIC:                             8007.\n",
       "Df Residuals:                     987   BIC:                             8070.\n",
       "Df Model:                          12                                         \n",
       "Covariance Type:            nonrobust                                         \n",
       "====================================================================================================================\n",
       "                                                       coef    std err          t      P>|t|      [0.025      0.975]\n",
       "--------------------------------------------------------------------------------------------------------------------\n",
       "Intercept                                           57.6305      1.872     30.784      0.000      53.957      61.304\n",
       "test_preparation_course[T.none]                     -5.4947      0.876     -6.275      0.000      -7.213      -3.776\n",
       "race_ethnicity[T.group B]                            2.0408      1.700      1.201      0.230      -1.295       5.376\n",
       "race_ethnicity[T.group C]                            2.4700      1.592      1.552      0.121      -0.654       5.594\n",
       "race_ethnicity[T.group D]                            5.3410      1.624      3.289      0.001       2.154       8.528\n",
       "race_ethnicity[T.group E]                           10.1347      1.802      5.626      0.000       6.599      13.670\n",
       "lunch[T.standard]                                   10.8768      0.873     12.463      0.000       9.164      12.589\n",
       "parental_level_of_education[T.bachelor's degree]     1.9661      1.502      1.309      0.191      -0.981       4.913\n",
       "parental_level_of_education[T.high school]          -4.8027      1.297     -3.703      0.000      -7.348      -2.257\n",
       "parental_level_of_education[T.master's degree]       2.8884      1.938      1.490      0.136      -0.915       6.692\n",
       "parental_level_of_education[T.some college]         -0.5827      1.247     -0.467      0.640      -3.030       1.864\n",
       "parental_level_of_education[T.some high school]     -4.2487      1.333     -3.187      0.001      -6.865      -1.633\n",
       "gender[T.male]                                       4.9953      0.839      5.954      0.000       3.349       6.642\n",
       "==============================================================================\n",
       "Omnibus:                        9.026   Durbin-Watson:                   2.043\n",
       "Prob(Omnibus):                  0.011   Jarque-Bera (JB):                9.201\n",
       "Skew:                          -0.232   Prob(JB):                       0.0100\n",
       "Kurtosis:                       2.928   Cond. No.                         12.9\n",
       "==============================================================================\n",
       "\n",
       "Notes:\n",
       "[1] Standard Errors assume that the covariance matrix of the errors is correctly specified.\n",
       "\"\"\""
      ]
     },
     "execution_count": 65,
     "metadata": {},
     "output_type": "execute_result"
    }
   ],
   "source": [
    "formula = 'math_score~test_preparation_course+race_ethnicity+lunch+parental_level_of_education+gender'\n",
    "model = smf.ols(formula, data=df)\n",
    "results = model.fit()\n",
    "results.summary()"
   ]
  },
  {
   "cell_type": "markdown",
   "metadata": {},
   "source": [
    "From the above we can see test_preparation_course+race_ethnicity+lunch+parental_level_of_education+gender accounts for 25% (R2 0.255) of the variation in math score"
   ]
  },
  {
   "cell_type": "code",
   "execution_count": 66,
   "metadata": {},
   "outputs": [
    {
     "data": {
      "text/html": [
       "<table class=\"simpletable\">\n",
       "<caption>OLS Regression Results</caption>\n",
       "<tr>\n",
       "  <th>Dep. Variable:</th>      <td>reading_score</td>  <th>  R-squared:         </th> <td>   0.227</td>\n",
       "</tr>\n",
       "<tr>\n",
       "  <th>Model:</th>                   <td>OLS</td>       <th>  Adj. R-squared:    </th> <td>   0.218</td>\n",
       "</tr>\n",
       "<tr>\n",
       "  <th>Method:</th>             <td>Least Squares</td>  <th>  F-statistic:       </th> <td>   24.19</td>\n",
       "</tr>\n",
       "<tr>\n",
       "  <th>Date:</th>             <td>Sun, 06 Jun 2021</td> <th>  Prob (F-statistic):</th> <td>8.62e-48</td>\n",
       "</tr>\n",
       "<tr>\n",
       "  <th>Time:</th>                 <td>21:12:06</td>     <th>  Log-Likelihood:    </th> <td> -3970.5</td>\n",
       "</tr>\n",
       "<tr>\n",
       "  <th>No. Observations:</th>      <td>  1000</td>      <th>  AIC:               </th> <td>   7967.</td>\n",
       "</tr>\n",
       "<tr>\n",
       "  <th>Df Residuals:</th>          <td>   987</td>      <th>  BIC:               </th> <td>   8031.</td>\n",
       "</tr>\n",
       "<tr>\n",
       "  <th>Df Model:</th>              <td>    12</td>      <th>                     </th>     <td> </td>   \n",
       "</tr>\n",
       "<tr>\n",
       "  <th>Covariance Type:</th>      <td>nonrobust</td>    <th>                     </th>     <td> </td>   \n",
       "</tr>\n",
       "</table>\n",
       "<table class=\"simpletable\">\n",
       "<tr>\n",
       "                          <td></td>                            <th>coef</th>     <th>std err</th>      <th>t</th>      <th>P>|t|</th>  <th>[0.025</th>    <th>0.975]</th>  \n",
       "</tr>\n",
       "<tr>\n",
       "  <th>Intercept</th>                                        <td>   71.2776</td> <td>    1.836</td> <td>   38.832</td> <td> 0.000</td> <td>   67.676</td> <td>   74.880</td>\n",
       "</tr>\n",
       "<tr>\n",
       "  <th>test_preparation_course[T.none]</th>                  <td>   -7.3625</td> <td>    0.859</td> <td>   -8.576</td> <td> 0.000</td> <td>   -9.047</td> <td>   -5.678</td>\n",
       "</tr>\n",
       "<tr>\n",
       "  <th>race_ethnicity[T.group B]</th>                        <td>    1.3260</td> <td>    1.667</td> <td>    0.796</td> <td> 0.426</td> <td>   -1.944</td> <td>    4.596</td>\n",
       "</tr>\n",
       "<tr>\n",
       "  <th>race_ethnicity[T.group C]</th>                        <td>    2.2739</td> <td>    1.561</td> <td>    1.457</td> <td> 0.145</td> <td>   -0.789</td> <td>    5.337</td>\n",
       "</tr>\n",
       "<tr>\n",
       "  <th>race_ethnicity[T.group D]</th>                        <td>    4.1056</td> <td>    1.592</td> <td>    2.578</td> <td> 0.010</td> <td>    0.981</td> <td>    7.230</td>\n",
       "</tr>\n",
       "<tr>\n",
       "  <th>race_ethnicity[T.group E]</th>                        <td>    5.5135</td> <td>    1.766</td> <td>    3.121</td> <td> 0.002</td> <td>    2.047</td> <td>    8.980</td>\n",
       "</tr>\n",
       "<tr>\n",
       "  <th>lunch[T.standard]</th>                                <td>    7.2458</td> <td>    0.856</td> <td>    8.468</td> <td> 0.000</td> <td>    5.567</td> <td>    8.925</td>\n",
       "</tr>\n",
       "<tr>\n",
       "  <th>parental_level_of_education[T.bachelor's degree]</th> <td>    2.1559</td> <td>    1.473</td> <td>    1.464</td> <td> 0.144</td> <td>   -0.734</td> <td>    5.046</td>\n",
       "</tr>\n",
       "<tr>\n",
       "  <th>parental_level_of_education[T.high school]</th>       <td>   -4.9004</td> <td>    1.272</td> <td>   -3.853</td> <td> 0.000</td> <td>   -7.396</td> <td>   -2.405</td>\n",
       "</tr>\n",
       "<tr>\n",
       "  <th>parental_level_of_education[T.master's degree]</th>   <td>    4.2051</td> <td>    1.900</td> <td>    2.213</td> <td> 0.027</td> <td>    0.476</td> <td>    7.934</td>\n",
       "</tr>\n",
       "<tr>\n",
       "  <th>parental_level_of_education[T.some college]</th>      <td>   -1.2795</td> <td>    1.223</td> <td>   -1.046</td> <td> 0.296</td> <td>   -3.679</td> <td>    1.120</td>\n",
       "</tr>\n",
       "<tr>\n",
       "  <th>parental_level_of_education[T.some high school]</th>  <td>   -4.0490</td> <td>    1.307</td> <td>   -3.098</td> <td> 0.002</td> <td>   -6.614</td> <td>   -1.484</td>\n",
       "</tr>\n",
       "<tr>\n",
       "  <th>gender[T.male]</th>                                   <td>   -7.0714</td> <td>    0.823</td> <td>   -8.596</td> <td> 0.000</td> <td>   -8.686</td> <td>   -5.457</td>\n",
       "</tr>\n",
       "</table>\n",
       "<table class=\"simpletable\">\n",
       "<tr>\n",
       "  <th>Omnibus:</th>       <td>11.191</td> <th>  Durbin-Watson:     </th> <td>   2.038</td>\n",
       "</tr>\n",
       "<tr>\n",
       "  <th>Prob(Omnibus):</th> <td> 0.004</td> <th>  Jarque-Bera (JB):  </th> <td>  11.258</td>\n",
       "</tr>\n",
       "<tr>\n",
       "  <th>Skew:</th>          <td>-0.242</td> <th>  Prob(JB):          </th> <td> 0.00359</td>\n",
       "</tr>\n",
       "<tr>\n",
       "  <th>Kurtosis:</th>      <td> 2.812</td> <th>  Cond. No.          </th> <td>    12.9</td>\n",
       "</tr>\n",
       "</table><br/><br/>Notes:<br/>[1] Standard Errors assume that the covariance matrix of the errors is correctly specified."
      ],
      "text/plain": [
       "<class 'statsmodels.iolib.summary.Summary'>\n",
       "\"\"\"\n",
       "                            OLS Regression Results                            \n",
       "==============================================================================\n",
       "Dep. Variable:          reading_score   R-squared:                       0.227\n",
       "Model:                            OLS   Adj. R-squared:                  0.218\n",
       "Method:                 Least Squares   F-statistic:                     24.19\n",
       "Date:                Sun, 06 Jun 2021   Prob (F-statistic):           8.62e-48\n",
       "Time:                        21:12:06   Log-Likelihood:                -3970.5\n",
       "No. Observations:                1000   AIC:                             7967.\n",
       "Df Residuals:                     987   BIC:                             8031.\n",
       "Df Model:                          12                                         \n",
       "Covariance Type:            nonrobust                                         \n",
       "====================================================================================================================\n",
       "                                                       coef    std err          t      P>|t|      [0.025      0.975]\n",
       "--------------------------------------------------------------------------------------------------------------------\n",
       "Intercept                                           71.2776      1.836     38.832      0.000      67.676      74.880\n",
       "test_preparation_course[T.none]                     -7.3625      0.859     -8.576      0.000      -9.047      -5.678\n",
       "race_ethnicity[T.group B]                            1.3260      1.667      0.796      0.426      -1.944       4.596\n",
       "race_ethnicity[T.group C]                            2.2739      1.561      1.457      0.145      -0.789       5.337\n",
       "race_ethnicity[T.group D]                            4.1056      1.592      2.578      0.010       0.981       7.230\n",
       "race_ethnicity[T.group E]                            5.5135      1.766      3.121      0.002       2.047       8.980\n",
       "lunch[T.standard]                                    7.2458      0.856      8.468      0.000       5.567       8.925\n",
       "parental_level_of_education[T.bachelor's degree]     2.1559      1.473      1.464      0.144      -0.734       5.046\n",
       "parental_level_of_education[T.high school]          -4.9004      1.272     -3.853      0.000      -7.396      -2.405\n",
       "parental_level_of_education[T.master's degree]       4.2051      1.900      2.213      0.027       0.476       7.934\n",
       "parental_level_of_education[T.some college]         -1.2795      1.223     -1.046      0.296      -3.679       1.120\n",
       "parental_level_of_education[T.some high school]     -4.0490      1.307     -3.098      0.002      -6.614      -1.484\n",
       "gender[T.male]                                      -7.0714      0.823     -8.596      0.000      -8.686      -5.457\n",
       "==============================================================================\n",
       "Omnibus:                       11.191   Durbin-Watson:                   2.038\n",
       "Prob(Omnibus):                  0.004   Jarque-Bera (JB):               11.258\n",
       "Skew:                          -0.242   Prob(JB):                      0.00359\n",
       "Kurtosis:                       2.812   Cond. No.                         12.9\n",
       "==============================================================================\n",
       "\n",
       "Notes:\n",
       "[1] Standard Errors assume that the covariance matrix of the errors is correctly specified.\n",
       "\"\"\""
      ]
     },
     "execution_count": 66,
     "metadata": {},
     "output_type": "execute_result"
    }
   ],
   "source": [
    "formula = 'reading_score~test_preparation_course+race_ethnicity+lunch+parental_level_of_education+gender'\n",
    "model = smf.ols(formula, data=df)\n",
    "results = model.fit()\n",
    "results.summary()"
   ]
  },
  {
   "cell_type": "markdown",
   "metadata": {},
   "source": [
    "From the above we can see test_preparation_course+race_ethnicity+lunch+parental_level_of_education+gender accounts for 22.7%  of the variation in reading score"
   ]
  },
  {
   "cell_type": "code",
   "execution_count": 67,
   "metadata": {},
   "outputs": [
    {
     "data": {
      "text/html": [
       "<table class=\"simpletable\">\n",
       "<caption>OLS Regression Results</caption>\n",
       "<tr>\n",
       "  <th>Dep. Variable:</th>      <td>writing_score</td>  <th>  R-squared:         </th> <td>   0.334</td>\n",
       "</tr>\n",
       "<tr>\n",
       "  <th>Model:</th>                   <td>OLS</td>       <th>  Adj. R-squared:    </th> <td>   0.326</td>\n",
       "</tr>\n",
       "<tr>\n",
       "  <th>Method:</th>             <td>Least Squares</td>  <th>  F-statistic:       </th> <td>   41.25</td>\n",
       "</tr>\n",
       "<tr>\n",
       "  <th>Date:</th>             <td>Sun, 06 Jun 2021</td> <th>  Prob (F-statistic):</th> <td>8.17e-79</td>\n",
       "</tr>\n",
       "<tr>\n",
       "  <th>Time:</th>                 <td>21:12:06</td>     <th>  Log-Likelihood:    </th> <td> -3936.2</td>\n",
       "</tr>\n",
       "<tr>\n",
       "  <th>No. Observations:</th>      <td>  1000</td>      <th>  AIC:               </th> <td>   7898.</td>\n",
       "</tr>\n",
       "<tr>\n",
       "  <th>Df Residuals:</th>          <td>   987</td>      <th>  BIC:               </th> <td>   7962.</td>\n",
       "</tr>\n",
       "<tr>\n",
       "  <th>Df Model:</th>              <td>    12</td>      <th>                     </th>     <td> </td>   \n",
       "</tr>\n",
       "<tr>\n",
       "  <th>Covariance Type:</th>      <td>nonrobust</td>    <th>                     </th>     <td> </td>   \n",
       "</tr>\n",
       "</table>\n",
       "<table class=\"simpletable\">\n",
       "<tr>\n",
       "                          <td></td>                            <th>coef</th>     <th>std err</th>      <th>t</th>      <th>P>|t|</th>  <th>[0.025</th>    <th>0.975]</th>  \n",
       "</tr>\n",
       "<tr>\n",
       "  <th>Intercept</th>                                        <td>   71.9142</td> <td>    1.774</td> <td>   40.548</td> <td> 0.000</td> <td>   68.434</td> <td>   75.395</td>\n",
       "</tr>\n",
       "<tr>\n",
       "  <th>test_preparation_course[T.none]</th>                  <td>  -10.0587</td> <td>    0.830</td> <td>  -12.125</td> <td> 0.000</td> <td>  -11.687</td> <td>   -8.431</td>\n",
       "</tr>\n",
       "<tr>\n",
       "  <th>race_ethnicity[T.group B]</th>                        <td>    1.2201</td> <td>    1.610</td> <td>    0.758</td> <td> 0.449</td> <td>   -1.940</td> <td>    4.380</td>\n",
       "</tr>\n",
       "<tr>\n",
       "  <th>race_ethnicity[T.group C]</th>                        <td>    2.4126</td> <td>    1.508</td> <td>    1.600</td> <td> 0.110</td> <td>   -0.547</td> <td>    5.372</td>\n",
       "</tr>\n",
       "<tr>\n",
       "  <th>race_ethnicity[T.group D]</th>                        <td>    5.9307</td> <td>    1.539</td> <td>    3.855</td> <td> 0.000</td> <td>    2.911</td> <td>    8.950</td>\n",
       "</tr>\n",
       "<tr>\n",
       "  <th>race_ethnicity[T.group E]</th>                        <td>    5.1373</td> <td>    1.707</td> <td>    3.010</td> <td> 0.003</td> <td>    1.788</td> <td>    8.487</td>\n",
       "</tr>\n",
       "<tr>\n",
       "  <th>lunch[T.standard]</th>                                <td>    8.2028</td> <td>    0.827</td> <td>    9.921</td> <td> 0.000</td> <td>    6.580</td> <td>    9.825</td>\n",
       "</tr>\n",
       "<tr>\n",
       "  <th>parental_level_of_education[T.bachelor's degree]</th> <td>    3.4849</td> <td>    1.423</td> <td>    2.449</td> <td> 0.014</td> <td>    0.693</td> <td>    6.277</td>\n",
       "</tr>\n",
       "<tr>\n",
       "  <th>parental_level_of_education[T.high school]</th>       <td>   -5.8143</td> <td>    1.229</td> <td>   -4.732</td> <td> 0.000</td> <td>   -8.226</td> <td>   -3.403</td>\n",
       "</tr>\n",
       "<tr>\n",
       "  <th>parental_level_of_education[T.master's degree]</th>   <td>    5.1832</td> <td>    1.836</td> <td>    2.823</td> <td> 0.005</td> <td>    1.580</td> <td>    8.787</td>\n",
       "</tr>\n",
       "<tr>\n",
       "  <th>parental_level_of_education[T.some college]</th>      <td>   -0.9204</td> <td>    1.181</td> <td>   -0.779</td> <td> 0.436</td> <td>   -3.239</td> <td>    1.398</td>\n",
       "</tr>\n",
       "<tr>\n",
       "  <th>parental_level_of_education[T.some high school]</th>  <td>   -5.3222</td> <td>    1.263</td> <td>   -4.214</td> <td> 0.000</td> <td>   -7.801</td> <td>   -2.844</td>\n",
       "</tr>\n",
       "<tr>\n",
       "  <th>gender[T.male]</th>                                   <td>   -9.0965</td> <td>    0.795</td> <td>  -11.444</td> <td> 0.000</td> <td>  -10.656</td> <td>   -7.537</td>\n",
       "</tr>\n",
       "</table>\n",
       "<table class=\"simpletable\">\n",
       "<tr>\n",
       "  <th>Omnibus:</th>       <td>16.647</td> <th>  Durbin-Watson:     </th> <td>   2.038</td>\n",
       "</tr>\n",
       "<tr>\n",
       "  <th>Prob(Omnibus):</th> <td> 0.000</td> <th>  Jarque-Bera (JB):  </th> <td>  17.222</td>\n",
       "</tr>\n",
       "<tr>\n",
       "  <th>Skew:</th>          <td>-0.321</td> <th>  Prob(JB):          </th> <td>0.000182</td>\n",
       "</tr>\n",
       "<tr>\n",
       "  <th>Kurtosis:</th>      <td> 2.982</td> <th>  Cond. No.          </th> <td>    12.9</td>\n",
       "</tr>\n",
       "</table><br/><br/>Notes:<br/>[1] Standard Errors assume that the covariance matrix of the errors is correctly specified."
      ],
      "text/plain": [
       "<class 'statsmodels.iolib.summary.Summary'>\n",
       "\"\"\"\n",
       "                            OLS Regression Results                            \n",
       "==============================================================================\n",
       "Dep. Variable:          writing_score   R-squared:                       0.334\n",
       "Model:                            OLS   Adj. R-squared:                  0.326\n",
       "Method:                 Least Squares   F-statistic:                     41.25\n",
       "Date:                Sun, 06 Jun 2021   Prob (F-statistic):           8.17e-79\n",
       "Time:                        21:12:06   Log-Likelihood:                -3936.2\n",
       "No. Observations:                1000   AIC:                             7898.\n",
       "Df Residuals:                     987   BIC:                             7962.\n",
       "Df Model:                          12                                         \n",
       "Covariance Type:            nonrobust                                         \n",
       "====================================================================================================================\n",
       "                                                       coef    std err          t      P>|t|      [0.025      0.975]\n",
       "--------------------------------------------------------------------------------------------------------------------\n",
       "Intercept                                           71.9142      1.774     40.548      0.000      68.434      75.395\n",
       "test_preparation_course[T.none]                    -10.0587      0.830    -12.125      0.000     -11.687      -8.431\n",
       "race_ethnicity[T.group B]                            1.2201      1.610      0.758      0.449      -1.940       4.380\n",
       "race_ethnicity[T.group C]                            2.4126      1.508      1.600      0.110      -0.547       5.372\n",
       "race_ethnicity[T.group D]                            5.9307      1.539      3.855      0.000       2.911       8.950\n",
       "race_ethnicity[T.group E]                            5.1373      1.707      3.010      0.003       1.788       8.487\n",
       "lunch[T.standard]                                    8.2028      0.827      9.921      0.000       6.580       9.825\n",
       "parental_level_of_education[T.bachelor's degree]     3.4849      1.423      2.449      0.014       0.693       6.277\n",
       "parental_level_of_education[T.high school]          -5.8143      1.229     -4.732      0.000      -8.226      -3.403\n",
       "parental_level_of_education[T.master's degree]       5.1832      1.836      2.823      0.005       1.580       8.787\n",
       "parental_level_of_education[T.some college]         -0.9204      1.181     -0.779      0.436      -3.239       1.398\n",
       "parental_level_of_education[T.some high school]     -5.3222      1.263     -4.214      0.000      -7.801      -2.844\n",
       "gender[T.male]                                      -9.0965      0.795    -11.444      0.000     -10.656      -7.537\n",
       "==============================================================================\n",
       "Omnibus:                       16.647   Durbin-Watson:                   2.038\n",
       "Prob(Omnibus):                  0.000   Jarque-Bera (JB):               17.222\n",
       "Skew:                          -0.321   Prob(JB):                     0.000182\n",
       "Kurtosis:                       2.982   Cond. No.                         12.9\n",
       "==============================================================================\n",
       "\n",
       "Notes:\n",
       "[1] Standard Errors assume that the covariance matrix of the errors is correctly specified.\n",
       "\"\"\""
      ]
     },
     "execution_count": 67,
     "metadata": {},
     "output_type": "execute_result"
    }
   ],
   "source": [
    "formula = 'writing_score~test_preparation_course+race_ethnicity+lunch+parental_level_of_education+gender'\n",
    "model = smf.ols(formula, data=df)\n",
    "results = model.fit()\n",
    "results.summary()"
   ]
  },
  {
   "cell_type": "markdown",
   "metadata": {},
   "source": [
    "From the above we can see test_preparation_course+race_ethnicity+lunch+parental_level_of_education+gender accounts for 33.4%  of the variation in writing score"
   ]
  },
  {
   "cell_type": "code",
   "execution_count": null,
   "metadata": {},
   "outputs": [],
   "source": []
  }
 ],
 "metadata": {
  "kernelspec": {
   "display_name": "Python 3",
   "language": "python",
   "name": "python3"
  },
  "language_info": {
   "codemirror_mode": {
    "name": "ipython",
    "version": 3
   },
   "file_extension": ".py",
   "mimetype": "text/x-python",
   "name": "python",
   "nbconvert_exporter": "python",
   "pygments_lexer": "ipython3",
   "version": "3.8.5"
  }
 },
 "nbformat": 4,
 "nbformat_minor": 2
}
